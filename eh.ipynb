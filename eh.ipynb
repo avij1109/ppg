{
 "cells": [
  {
   "cell_type": "code",
   "execution_count": 2,
   "id": "822c479c",
   "metadata": {},
   "outputs": [],
   "source": [
    "# ----- IMPORTS -----\n",
    "import os\n",
    "import shutil\n",
    "import glob\n",
    "import numpy as np\n",
    "import pandas as pd\n",
    "import matplotlib.pyplot as plt\n",
    "import plotly.express as px\n",
    "import pywt\n"
   ]
  },
  {
   "cell_type": "code",
   "execution_count": 3,
   "id": "e67d008f",
   "metadata": {},
   "outputs": [],
   "source": [
    "import os\n",
    "\n",
    "folder_path = r\"/home/avij/data/dataset/\"  # Update with your folder path\n",
    "\n",
    "# Get list of all CSV files\n",
    "csv_files = [f for f in os.listdir(folder_path) if f.endswith('.csv')]\n",
    "\n",
    "# Sort to ensure consistent order (optional)\n",
    "csv_files.sort()\n",
    "\n",
    "# Rename files\n",
    "for idx, file in enumerate(csv_files, start=1):\n",
    "    old_path = os.path.join(folder_path, file)\n",
    "    new_name = f\"patient_{idx:02d}.csv\"  # patient_01, patient_02, ...\n",
    "    new_path = os.path.join(folder_path, new_name)\n",
    "\n",
    "    os.rename(old_path, new_path)\n",
    "    print(f\"Renamed '{file}' → '{new_name}'\")"
   ]
  },
  {
   "cell_type": "code",
   "execution_count": 4,
   "id": "25218b4d",
   "metadata": {},
   "outputs": [],
   "source": [
    "# ----- ORGANIZE FILES -----\n",
    "base_folder = r\"/home/avij/data/dataset\"\n",
    "raw_folder = os.path.join(base_folder, \"raw_data\")\n",
    "output_folder = os.path.join(base_folder, \"outputs\")\n",
    "\n",
    "os.makedirs(raw_folder, exist_ok=True)\n",
    "os.makedirs(output_folder, exist_ok=True)\n",
    "\n",
    "for file in os.listdir(base_folder):\n",
    "    if file.endswith(\".csv\"):\n",
    "        file_path = os.path.join(base_folder, file)\n",
    "        if \"patient\" in file.lower():\n",
    "            shutil.move(file_path, os.path.join(raw_folder, file))\n",
    "            print(f\"📦 Moved to raw_data: {file}\")\n",
    "        else:\n",
    "            shutil.move(file_path, os.path.join(output_folder, file))\n",
    "            print(f\"📁 Moved to outputs: {file}\")\n"
   ]
  },
  {
   "cell_type": "code",
   "execution_count": 5,
   "id": "ab032d6d",
   "metadata": {},
   "outputs": [
    {
     "data": {
      "application/vnd.plotly.v1+json": {
       "config": {
        "plotlyServerURL": "https://plot.ly"
       },
       "data": [
        {
         "hovertemplate": "Sample Index=%{x}<br>PPG =%{y}<extra></extra>",
         "legendgroup": "",
         "line": {
          "color": "#636efa",
          "dash": "solid"
         },
         "marker": {
          "symbol": "circle"
         },
         "mode": "lines",
         "name": "",
         "orientation": "v",
         "showlegend": false,
         "type": "scatter",
         "x": {
          "bdata": "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",
          "dtype": "i2"
         },
         "xaxis": "x",
         "y": {
          "bdata": "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",
          "dtype": "f8"
         },
         "yaxis": "y"
        }
       ],
       "layout": {
        "legend": {
         "tracegroupgap": 0
        },
        "template": {
         "data": {
          "bar": [
           {
            "error_x": {
             "color": "#2a3f5f"
            },
            "error_y": {
             "color": "#2a3f5f"
            },
            "marker": {
             "line": {
              "color": "white",
              "width": 0.5
             },
             "pattern": {
              "fillmode": "overlay",
              "size": 10,
              "solidity": 0.2
             }
            },
            "type": "bar"
           }
          ],
          "barpolar": [
           {
            "marker": {
             "line": {
              "color": "white",
              "width": 0.5
             },
             "pattern": {
              "fillmode": "overlay",
              "size": 10,
              "solidity": 0.2
             }
            },
            "type": "barpolar"
           }
          ],
          "carpet": [
           {
            "aaxis": {
             "endlinecolor": "#2a3f5f",
             "gridcolor": "#C8D4E3",
             "linecolor": "#C8D4E3",
             "minorgridcolor": "#C8D4E3",
             "startlinecolor": "#2a3f5f"
            },
            "baxis": {
             "endlinecolor": "#2a3f5f",
             "gridcolor": "#C8D4E3",
             "linecolor": "#C8D4E3",
             "minorgridcolor": "#C8D4E3",
             "startlinecolor": "#2a3f5f"
            },
            "type": "carpet"
           }
          ],
          "choropleth": [
           {
            "colorbar": {
             "outlinewidth": 0,
             "ticks": ""
            },
            "type": "choropleth"
           }
          ],
          "contour": [
           {
            "colorbar": {
             "outlinewidth": 0,
             "ticks": ""
            },
            "colorscale": [
             [
              0,
              "#0d0887"
             ],
             [
              0.1111111111111111,
              "#46039f"
             ],
             [
              0.2222222222222222,
              "#7201a8"
             ],
             [
              0.3333333333333333,
              "#9c179e"
             ],
             [
              0.4444444444444444,
              "#bd3786"
             ],
             [
              0.5555555555555556,
              "#d8576b"
             ],
             [
              0.6666666666666666,
              "#ed7953"
             ],
             [
              0.7777777777777778,
              "#fb9f3a"
             ],
             [
              0.8888888888888888,
              "#fdca26"
             ],
             [
              1,
              "#f0f921"
             ]
            ],
            "type": "contour"
           }
          ],
          "contourcarpet": [
           {
            "colorbar": {
             "outlinewidth": 0,
             "ticks": ""
            },
            "type": "contourcarpet"
           }
          ],
          "heatmap": [
           {
            "colorbar": {
             "outlinewidth": 0,
             "ticks": ""
            },
            "colorscale": [
             [
              0,
              "#0d0887"
             ],
             [
              0.1111111111111111,
              "#46039f"
             ],
             [
              0.2222222222222222,
              "#7201a8"
             ],
             [
              0.3333333333333333,
              "#9c179e"
             ],
             [
              0.4444444444444444,
              "#bd3786"
             ],
             [
              0.5555555555555556,
              "#d8576b"
             ],
             [
              0.6666666666666666,
              "#ed7953"
             ],
             [
              0.7777777777777778,
              "#fb9f3a"
             ],
             [
              0.8888888888888888,
              "#fdca26"
             ],
             [
              1,
              "#f0f921"
             ]
            ],
            "type": "heatmap"
           }
          ],
          "histogram": [
           {
            "marker": {
             "pattern": {
              "fillmode": "overlay",
              "size": 10,
              "solidity": 0.2
             }
            },
            "type": "histogram"
           }
          ],
          "histogram2d": [
           {
            "colorbar": {
             "outlinewidth": 0,
             "ticks": ""
            },
            "colorscale": [
             [
              0,
              "#0d0887"
             ],
             [
              0.1111111111111111,
              "#46039f"
             ],
             [
              0.2222222222222222,
              "#7201a8"
             ],
             [
              0.3333333333333333,
              "#9c179e"
             ],
             [
              0.4444444444444444,
              "#bd3786"
             ],
             [
              0.5555555555555556,
              "#d8576b"
             ],
             [
              0.6666666666666666,
              "#ed7953"
             ],
             [
              0.7777777777777778,
              "#fb9f3a"
             ],
             [
              0.8888888888888888,
              "#fdca26"
             ],
             [
              1,
              "#f0f921"
             ]
            ],
            "type": "histogram2d"
           }
          ],
          "histogram2dcontour": [
           {
            "colorbar": {
             "outlinewidth": 0,
             "ticks": ""
            },
            "colorscale": [
             [
              0,
              "#0d0887"
             ],
             [
              0.1111111111111111,
              "#46039f"
             ],
             [
              0.2222222222222222,
              "#7201a8"
             ],
             [
              0.3333333333333333,
              "#9c179e"
             ],
             [
              0.4444444444444444,
              "#bd3786"
             ],
             [
              0.5555555555555556,
              "#d8576b"
             ],
             [
              0.6666666666666666,
              "#ed7953"
             ],
             [
              0.7777777777777778,
              "#fb9f3a"
             ],
             [
              0.8888888888888888,
              "#fdca26"
             ],
             [
              1,
              "#f0f921"
             ]
            ],
            "type": "histogram2dcontour"
           }
          ],
          "mesh3d": [
           {
            "colorbar": {
             "outlinewidth": 0,
             "ticks": ""
            },
            "type": "mesh3d"
           }
          ],
          "parcoords": [
           {
            "line": {
             "colorbar": {
              "outlinewidth": 0,
              "ticks": ""
             }
            },
            "type": "parcoords"
           }
          ],
          "pie": [
           {
            "automargin": true,
            "type": "pie"
           }
          ],
          "scatter": [
           {
            "fillpattern": {
             "fillmode": "overlay",
             "size": 10,
             "solidity": 0.2
            },
            "type": "scatter"
           }
          ],
          "scatter3d": [
           {
            "line": {
             "colorbar": {
              "outlinewidth": 0,
              "ticks": ""
             }
            },
            "marker": {
             "colorbar": {
              "outlinewidth": 0,
              "ticks": ""
             }
            },
            "type": "scatter3d"
           }
          ],
          "scattercarpet": [
           {
            "marker": {
             "colorbar": {
              "outlinewidth": 0,
              "ticks": ""
             }
            },
            "type": "scattercarpet"
           }
          ],
          "scattergeo": [
           {
            "marker": {
             "colorbar": {
              "outlinewidth": 0,
              "ticks": ""
             }
            },
            "type": "scattergeo"
           }
          ],
          "scattergl": [
           {
            "marker": {
             "colorbar": {
              "outlinewidth": 0,
              "ticks": ""
             }
            },
            "type": "scattergl"
           }
          ],
          "scattermap": [
           {
            "marker": {
             "colorbar": {
              "outlinewidth": 0,
              "ticks": ""
             }
            },
            "type": "scattermap"
           }
          ],
          "scattermapbox": [
           {
            "marker": {
             "colorbar": {
              "outlinewidth": 0,
              "ticks": ""
             }
            },
            "type": "scattermapbox"
           }
          ],
          "scatterpolar": [
           {
            "marker": {
             "colorbar": {
              "outlinewidth": 0,
              "ticks": ""
             }
            },
            "type": "scatterpolar"
           }
          ],
          "scatterpolargl": [
           {
            "marker": {
             "colorbar": {
              "outlinewidth": 0,
              "ticks": ""
             }
            },
            "type": "scatterpolargl"
           }
          ],
          "scatterternary": [
           {
            "marker": {
             "colorbar": {
              "outlinewidth": 0,
              "ticks": ""
             }
            },
            "type": "scatterternary"
           }
          ],
          "surface": [
           {
            "colorbar": {
             "outlinewidth": 0,
             "ticks": ""
            },
            "colorscale": [
             [
              0,
              "#0d0887"
             ],
             [
              0.1111111111111111,
              "#46039f"
             ],
             [
              0.2222222222222222,
              "#7201a8"
             ],
             [
              0.3333333333333333,
              "#9c179e"
             ],
             [
              0.4444444444444444,
              "#bd3786"
             ],
             [
              0.5555555555555556,
              "#d8576b"
             ],
             [
              0.6666666666666666,
              "#ed7953"
             ],
             [
              0.7777777777777778,
              "#fb9f3a"
             ],
             [
              0.8888888888888888,
              "#fdca26"
             ],
             [
              1,
              "#f0f921"
             ]
            ],
            "type": "surface"
           }
          ],
          "table": [
           {
            "cells": {
             "fill": {
              "color": "#EBF0F8"
             },
             "line": {
              "color": "white"
             }
            },
            "header": {
             "fill": {
              "color": "#C8D4E3"
             },
             "line": {
              "color": "white"
             }
            },
            "type": "table"
           }
          ]
         },
         "layout": {
          "annotationdefaults": {
           "arrowcolor": "#2a3f5f",
           "arrowhead": 0,
           "arrowwidth": 1
          },
          "autotypenumbers": "strict",
          "coloraxis": {
           "colorbar": {
            "outlinewidth": 0,
            "ticks": ""
           }
          },
          "colorscale": {
           "diverging": [
            [
             0,
             "#8e0152"
            ],
            [
             0.1,
             "#c51b7d"
            ],
            [
             0.2,
             "#de77ae"
            ],
            [
             0.3,
             "#f1b6da"
            ],
            [
             0.4,
             "#fde0ef"
            ],
            [
             0.5,
             "#f7f7f7"
            ],
            [
             0.6,
             "#e6f5d0"
            ],
            [
             0.7,
             "#b8e186"
            ],
            [
             0.8,
             "#7fbc41"
            ],
            [
             0.9,
             "#4d9221"
            ],
            [
             1,
             "#276419"
            ]
           ],
           "sequential": [
            [
             0,
             "#0d0887"
            ],
            [
             0.1111111111111111,
             "#46039f"
            ],
            [
             0.2222222222222222,
             "#7201a8"
            ],
            [
             0.3333333333333333,
             "#9c179e"
            ],
            [
             0.4444444444444444,
             "#bd3786"
            ],
            [
             0.5555555555555556,
             "#d8576b"
            ],
            [
             0.6666666666666666,
             "#ed7953"
            ],
            [
             0.7777777777777778,
             "#fb9f3a"
            ],
            [
             0.8888888888888888,
             "#fdca26"
            ],
            [
             1,
             "#f0f921"
            ]
           ],
           "sequentialminus": [
            [
             0,
             "#0d0887"
            ],
            [
             0.1111111111111111,
             "#46039f"
            ],
            [
             0.2222222222222222,
             "#7201a8"
            ],
            [
             0.3333333333333333,
             "#9c179e"
            ],
            [
             0.4444444444444444,
             "#bd3786"
            ],
            [
             0.5555555555555556,
             "#d8576b"
            ],
            [
             0.6666666666666666,
             "#ed7953"
            ],
            [
             0.7777777777777778,
             "#fb9f3a"
            ],
            [
             0.8888888888888888,
             "#fdca26"
            ],
            [
             1,
             "#f0f921"
            ]
           ]
          },
          "colorway": [
           "#636efa",
           "#EF553B",
           "#00cc96",
           "#ab63fa",
           "#FFA15A",
           "#19d3f3",
           "#FF6692",
           "#B6E880",
           "#FF97FF",
           "#FECB52"
          ],
          "font": {
           "color": "#2a3f5f"
          },
          "geo": {
           "bgcolor": "white",
           "lakecolor": "white",
           "landcolor": "white",
           "showlakes": true,
           "showland": true,
           "subunitcolor": "#C8D4E3"
          },
          "hoverlabel": {
           "align": "left"
          },
          "hovermode": "closest",
          "mapbox": {
           "style": "light"
          },
          "paper_bgcolor": "white",
          "plot_bgcolor": "white",
          "polar": {
           "angularaxis": {
            "gridcolor": "#EBF0F8",
            "linecolor": "#EBF0F8",
            "ticks": ""
           },
           "bgcolor": "white",
           "radialaxis": {
            "gridcolor": "#EBF0F8",
            "linecolor": "#EBF0F8",
            "ticks": ""
           }
          },
          "scene": {
           "xaxis": {
            "backgroundcolor": "white",
            "gridcolor": "#DFE8F3",
            "gridwidth": 2,
            "linecolor": "#EBF0F8",
            "showbackground": true,
            "ticks": "",
            "zerolinecolor": "#EBF0F8"
           },
           "yaxis": {
            "backgroundcolor": "white",
            "gridcolor": "#DFE8F3",
            "gridwidth": 2,
            "linecolor": "#EBF0F8",
            "showbackground": true,
            "ticks": "",
            "zerolinecolor": "#EBF0F8"
           },
           "zaxis": {
            "backgroundcolor": "white",
            "gridcolor": "#DFE8F3",
            "gridwidth": 2,
            "linecolor": "#EBF0F8",
            "showbackground": true,
            "ticks": "",
            "zerolinecolor": "#EBF0F8"
           }
          },
          "shapedefaults": {
           "line": {
            "color": "#2a3f5f"
           }
          },
          "ternary": {
           "aaxis": {
            "gridcolor": "#DFE8F3",
            "linecolor": "#A2B1C6",
            "ticks": ""
           },
           "baxis": {
            "gridcolor": "#DFE8F3",
            "linecolor": "#A2B1C6",
            "ticks": ""
           },
           "bgcolor": "white",
           "caxis": {
            "gridcolor": "#DFE8F3",
            "linecolor": "#A2B1C6",
            "ticks": ""
           }
          },
          "title": {
           "x": 0.05
          },
          "xaxis": {
           "automargin": true,
           "gridcolor": "#EBF0F8",
           "linecolor": "#EBF0F8",
           "ticks": "",
           "title": {
            "standoff": 15
           },
           "zerolinecolor": "#EBF0F8",
           "zerolinewidth": 2
          },
          "yaxis": {
           "automargin": true,
           "gridcolor": "#EBF0F8",
           "linecolor": "#EBF0F8",
           "ticks": "",
           "title": {
            "standoff": 15
           },
           "zerolinecolor": "#EBF0F8",
           "zerolinewidth": 2
          }
         }
        },
        "title": {
         "text": " PPG Signal (Samples 1000–2000) - patient_02"
        },
        "xaxis": {
         "anchor": "y",
         "domain": [
          0,
          1
         ],
         "title": {
          "text": "Sample Index"
         }
        },
        "yaxis": {
         "anchor": "x",
         "domain": [
          0,
          1
         ],
         "title": {
          "text": "PPG "
         }
        }
       }
      }
     },
     "metadata": {},
     "output_type": "display_data"
    }
   ],
   "source": [
    "import pandas as pd\n",
    "import numpy as np\n",
    "import plotly.express as px\n",
    "\n",
    "# ---- Load raw file ----\n",
    "file_path = r\"/home/avij/data/dataset/raw_data/patient_02.csv\"\n",
    "df = pd.read_csv(file_path)\n",
    "\n",
    "# ---- Extract and preprocess ----\n",
    "ppg = df['PPG'].dropna().values\n",
    "\n",
    "\n",
    "\n",
    "# ---- Slice the preprocessed signal directly ----\n",
    "start_idx = 1000\n",
    "end_idx = 2000\n",
    "ppg_slice = ppg[start_idx:end_idx]\n",
    "\n",
    "# ---- Plot specified range ----\n",
    "slice_df = pd.DataFrame({\n",
    "    \"Sample Index\": np.arange(start_idx, end_idx),\n",
    "    \"PPG \": ppg_slice\n",
    "})\n",
    "\n",
    "fig = px.line(slice_df, x=\"Sample Index\", y=\"PPG \",\n",
    "              title=f\" PPG Signal (Samples {start_idx}–{end_idx}) - patient_02\")\n",
    "fig.update_layout(template='plotly_white')\n",
    "fig.show()"
   ]
  },
  {
   "cell_type": "code",
   "execution_count": 6,
   "id": "dfa0f425",
   "metadata": {},
   "outputs": [],
   "source": [
    "import numpy as np\n",
    "import pandas as pd\n",
    "import pywt\n",
    "from scipy.signal import butter, filtfilt, find_peaks\n",
    "\n",
    "# ----- SIGNAL CLEANING FUNCTIONS -----\n",
    "\n",
    "def remove_spike_outliers(signal, threshold=3):\n",
    "    z = np.abs((signal - np.mean(signal)) / np.std(signal))\n",
    "    signal[z > threshold] = np.median(signal)\n",
    "    return signal\n",
    "\n",
    "def wavelet_denoise(signal, wavelet='db6', level=3):\n",
    "    coeff = pywt.wavedec(signal, wavelet, level=level)\n",
    "    sigma = np.median(np.abs(coeff[-level])) / 0.6745\n",
    "    uthresh = sigma * np.sqrt(2 * np.log(len(signal)))\n",
    "    coeff[1:] = [pywt.threshold(i, value=uthresh, mode='soft') for i in coeff[1:]]\n",
    "    return pywt.waverec(coeff, wavelet)\n",
    "\n",
    "def bandpass_filter(signal, low=0.5, high=8.0, fs=125, order=4):\n",
    "    nyq = 0.5 * fs\n",
    "    low /= nyq\n",
    "    high /= nyq\n",
    "    b, a = butter(order, [low, high], btype='band')\n",
    "    return filtfilt(b, a, signal)\n",
    "\n",
    "def normalize_signal(signal):\n",
    "    return (signal - np.min(signal)) / (np.max(signal) - np.min(signal))\n",
    "\n",
    "# ----- SEGMENT & FEATURE EXTRACTION -----\n",
    "\n",
    "def segment_signal(signal, window_size=1000, overlap=500):\n",
    "    segments = []\n",
    "    for start in range(0, len(signal) - window_size + 1, window_size - overlap):\n",
    "        segments.append(signal[start:start+window_size])\n",
    "    return segments\n",
    "\n",
    "def extract_features(ppg_segment, fs=125):\n",
    "    features = {}\n",
    "    features['mean'] = np.mean(ppg_segment)\n",
    "    features['std'] = np.std(ppg_segment)\n",
    "    features['kurtosis'] = np.mean((ppg_segment - np.mean(ppg_segment))**4) / (np.std(ppg_segment)**4)\n",
    "    features['skewness'] = np.mean((ppg_segment - np.mean(ppg_segment))**3) / (np.std(ppg_segment)**3)\n",
    "\n",
    "    peaks, _ = find_peaks(ppg_segment, distance=fs*0.6)\n",
    "    peak_vals = ppg_segment[peaks]\n",
    "\n",
    "    if len(peaks) >= 2:\n",
    "        features['systolic_peak_height'] = np.mean(peak_vals)\n",
    "        rr_intervals = np.diff(peaks) / fs\n",
    "        hr_values = 60 / rr_intervals\n",
    "        features['mean_hr'] = np.mean(hr_values)\n",
    "        features['hrv_sdnn'] = np.std(rr_intervals)\n",
    "    else:\n",
    "        features['systolic_peak_height'] = 0\n",
    "        features['mean_hr'] = 0\n",
    "        features['hrv_sdnn'] = 0\n",
    "\n",
    "    if len(peaks) >= 2:\n",
    "        notches = []\n",
    "        for i in range(len(peaks) - 1):\n",
    "            start = peaks[i]\n",
    "            end = peaks[i+1]\n",
    "            notch_index = start + np.argmin(ppg_segment[start:end])\n",
    "            time_to_peak = (peaks[i+1] - notch_index) / fs\n",
    "            notches.append(time_to_peak)\n",
    "        features['notch_to_peak_time'] = np.mean(notches)\n",
    "    else:\n",
    "        features['notch_to_peak_time'] = 0\n",
    "\n",
    "    return features\n",
    "\n",
    "# ----- FEATURE-LEVEL OUTLIER REMOVAL -----\n",
    "\n",
    "def remove_feature_outliers(df, feature_cols):\n",
    "    for col in feature_cols:\n",
    "        Q1 = df[col].quantile(0.25)\n",
    "        Q3 = df[col].quantile(0.75)\n",
    "        IQR = Q3 - Q1\n",
    "        lower = Q1 - 1.5 * IQR\n",
    "        upper = Q3 + 1.5 * IQR\n",
    "        df = df[(df[col] >= lower) & (df[col] <= upper)]\n",
    "    return df\n",
    "\n",
    "# ----- LABEL FUNCTION -----\n",
    "\n",
    "def get_label(sbp, dbp):\n",
    "    if sbp < 120 and dbp < 80:\n",
    "        return \"normotensive\"\n",
    "    elif (120 <= sbp < 140) or (80 <= dbp < 90):\n",
    "        return \"prehypertensive\"\n",
    "    else:\n",
    "        return \"hypertensive\"\n"
   ]
  },
  {
   "cell_type": "code",
   "execution_count": 7,
   "id": "19cc045c",
   "metadata": {},
   "outputs": [
    {
     "data": {
      "application/vnd.plotly.v1+json": {
       "config": {
        "plotlyServerURL": "https://plot.ly"
       },
       "data": [
        {
         "mode": "lines",
         "name": "Raw",
         "type": "scatter",
         "x": {
          "bdata": "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",
          "dtype": "i2"
         },
         "xaxis": "x",
         "y": {
          "bdata": "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",
          "dtype": "f8"
         },
         "yaxis": "y"
        },
        {
         "mode": "lines",
         "name": "Cleaned",
         "type": "scatter",
         "x": {
          "bdata": "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",
          "dtype": "i2"
         },
         "xaxis": "x2",
         "y": {
          "bdata": "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",
          "dtype": "f8"
         },
         "yaxis": "y2"
        },
        {
         "mode": "lines",
         "name": "Normalized",
         "type": "scatter",
         "x": {
          "bdata": "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",
          "dtype": "i2"
         },
         "xaxis": "x3",
         "y": {
          "bdata": "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",
          "dtype": "f8"
         },
         "yaxis": "y3"
        },
        {
         "mode": "lines",
         "name": "Denoised",
         "type": "scatter",
         "x": {
          "bdata": "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",
          "dtype": "i2"
         },
         "xaxis": "x4",
         "y": {
          "bdata": "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",
          "dtype": "f8"
         },
         "yaxis": "y4"
        },
        {
         "mode": "lines",
         "name": "Filtered",
         "type": "scatter",
         "x": {
          "bdata": "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",
          "dtype": "i2"
         },
         "xaxis": "x5",
         "y": {
          "bdata": "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",
          "dtype": "f8"
         },
         "yaxis": "y5"
        }
       ],
       "layout": {
        "annotations": [
         {
          "font": {
           "size": 16
          },
          "showarrow": false,
          "text": "Raw PPG Signal",
          "x": 0.5,
          "xanchor": "center",
          "xref": "paper",
          "y": 1,
          "yanchor": "bottom",
          "yref": "paper"
         },
         {
          "font": {
           "size": 16
          },
          "showarrow": false,
          "text": "After Spike Outlier Removal",
          "x": 0.5,
          "xanchor": "center",
          "xref": "paper",
          "y": 0.794,
          "yanchor": "bottom",
          "yref": "paper"
         },
         {
          "font": {
           "size": 16
          },
          "showarrow": false,
          "text": "After Normalization",
          "x": 0.5,
          "xanchor": "center",
          "xref": "paper",
          "y": 0.588,
          "yanchor": "bottom",
          "yref": "paper"
         },
         {
          "font": {
           "size": 16
          },
          "showarrow": false,
          "text": "After Wavelet Denoising",
          "x": 0.5,
          "xanchor": "center",
          "xref": "paper",
          "y": 0.382,
          "yanchor": "bottom",
          "yref": "paper"
         },
         {
          "font": {
           "size": 16
          },
          "showarrow": false,
          "text": "After Bandpass Filtering",
          "x": 0.5,
          "xanchor": "center",
          "xref": "paper",
          "y": 0.176,
          "yanchor": "bottom",
          "yref": "paper"
         }
        ],
        "height": 1300,
        "showlegend": false,
        "template": {
         "data": {
          "bar": [
           {
            "error_x": {
             "color": "#2a3f5f"
            },
            "error_y": {
             "color": "#2a3f5f"
            },
            "marker": {
             "line": {
              "color": "white",
              "width": 0.5
             },
             "pattern": {
              "fillmode": "overlay",
              "size": 10,
              "solidity": 0.2
             }
            },
            "type": "bar"
           }
          ],
          "barpolar": [
           {
            "marker": {
             "line": {
              "color": "white",
              "width": 0.5
             },
             "pattern": {
              "fillmode": "overlay",
              "size": 10,
              "solidity": 0.2
             }
            },
            "type": "barpolar"
           }
          ],
          "carpet": [
           {
            "aaxis": {
             "endlinecolor": "#2a3f5f",
             "gridcolor": "#C8D4E3",
             "linecolor": "#C8D4E3",
             "minorgridcolor": "#C8D4E3",
             "startlinecolor": "#2a3f5f"
            },
            "baxis": {
             "endlinecolor": "#2a3f5f",
             "gridcolor": "#C8D4E3",
             "linecolor": "#C8D4E3",
             "minorgridcolor": "#C8D4E3",
             "startlinecolor": "#2a3f5f"
            },
            "type": "carpet"
           }
          ],
          "choropleth": [
           {
            "colorbar": {
             "outlinewidth": 0,
             "ticks": ""
            },
            "type": "choropleth"
           }
          ],
          "contour": [
           {
            "colorbar": {
             "outlinewidth": 0,
             "ticks": ""
            },
            "colorscale": [
             [
              0,
              "#0d0887"
             ],
             [
              0.1111111111111111,
              "#46039f"
             ],
             [
              0.2222222222222222,
              "#7201a8"
             ],
             [
              0.3333333333333333,
              "#9c179e"
             ],
             [
              0.4444444444444444,
              "#bd3786"
             ],
             [
              0.5555555555555556,
              "#d8576b"
             ],
             [
              0.6666666666666666,
              "#ed7953"
             ],
             [
              0.7777777777777778,
              "#fb9f3a"
             ],
             [
              0.8888888888888888,
              "#fdca26"
             ],
             [
              1,
              "#f0f921"
             ]
            ],
            "type": "contour"
           }
          ],
          "contourcarpet": [
           {
            "colorbar": {
             "outlinewidth": 0,
             "ticks": ""
            },
            "type": "contourcarpet"
           }
          ],
          "heatmap": [
           {
            "colorbar": {
             "outlinewidth": 0,
             "ticks": ""
            },
            "colorscale": [
             [
              0,
              "#0d0887"
             ],
             [
              0.1111111111111111,
              "#46039f"
             ],
             [
              0.2222222222222222,
              "#7201a8"
             ],
             [
              0.3333333333333333,
              "#9c179e"
             ],
             [
              0.4444444444444444,
              "#bd3786"
             ],
             [
              0.5555555555555556,
              "#d8576b"
             ],
             [
              0.6666666666666666,
              "#ed7953"
             ],
             [
              0.7777777777777778,
              "#fb9f3a"
             ],
             [
              0.8888888888888888,
              "#fdca26"
             ],
             [
              1,
              "#f0f921"
             ]
            ],
            "type": "heatmap"
           }
          ],
          "histogram": [
           {
            "marker": {
             "pattern": {
              "fillmode": "overlay",
              "size": 10,
              "solidity": 0.2
             }
            },
            "type": "histogram"
           }
          ],
          "histogram2d": [
           {
            "colorbar": {
             "outlinewidth": 0,
             "ticks": ""
            },
            "colorscale": [
             [
              0,
              "#0d0887"
             ],
             [
              0.1111111111111111,
              "#46039f"
             ],
             [
              0.2222222222222222,
              "#7201a8"
             ],
             [
              0.3333333333333333,
              "#9c179e"
             ],
             [
              0.4444444444444444,
              "#bd3786"
             ],
             [
              0.5555555555555556,
              "#d8576b"
             ],
             [
              0.6666666666666666,
              "#ed7953"
             ],
             [
              0.7777777777777778,
              "#fb9f3a"
             ],
             [
              0.8888888888888888,
              "#fdca26"
             ],
             [
              1,
              "#f0f921"
             ]
            ],
            "type": "histogram2d"
           }
          ],
          "histogram2dcontour": [
           {
            "colorbar": {
             "outlinewidth": 0,
             "ticks": ""
            },
            "colorscale": [
             [
              0,
              "#0d0887"
             ],
             [
              0.1111111111111111,
              "#46039f"
             ],
             [
              0.2222222222222222,
              "#7201a8"
             ],
             [
              0.3333333333333333,
              "#9c179e"
             ],
             [
              0.4444444444444444,
              "#bd3786"
             ],
             [
              0.5555555555555556,
              "#d8576b"
             ],
             [
              0.6666666666666666,
              "#ed7953"
             ],
             [
              0.7777777777777778,
              "#fb9f3a"
             ],
             [
              0.8888888888888888,
              "#fdca26"
             ],
             [
              1,
              "#f0f921"
             ]
            ],
            "type": "histogram2dcontour"
           }
          ],
          "mesh3d": [
           {
            "colorbar": {
             "outlinewidth": 0,
             "ticks": ""
            },
            "type": "mesh3d"
           }
          ],
          "parcoords": [
           {
            "line": {
             "colorbar": {
              "outlinewidth": 0,
              "ticks": ""
             }
            },
            "type": "parcoords"
           }
          ],
          "pie": [
           {
            "automargin": true,
            "type": "pie"
           }
          ],
          "scatter": [
           {
            "fillpattern": {
             "fillmode": "overlay",
             "size": 10,
             "solidity": 0.2
            },
            "type": "scatter"
           }
          ],
          "scatter3d": [
           {
            "line": {
             "colorbar": {
              "outlinewidth": 0,
              "ticks": ""
             }
            },
            "marker": {
             "colorbar": {
              "outlinewidth": 0,
              "ticks": ""
             }
            },
            "type": "scatter3d"
           }
          ],
          "scattercarpet": [
           {
            "marker": {
             "colorbar": {
              "outlinewidth": 0,
              "ticks": ""
             }
            },
            "type": "scattercarpet"
           }
          ],
          "scattergeo": [
           {
            "marker": {
             "colorbar": {
              "outlinewidth": 0,
              "ticks": ""
             }
            },
            "type": "scattergeo"
           }
          ],
          "scattergl": [
           {
            "marker": {
             "colorbar": {
              "outlinewidth": 0,
              "ticks": ""
             }
            },
            "type": "scattergl"
           }
          ],
          "scattermap": [
           {
            "marker": {
             "colorbar": {
              "outlinewidth": 0,
              "ticks": ""
             }
            },
            "type": "scattermap"
           }
          ],
          "scattermapbox": [
           {
            "marker": {
             "colorbar": {
              "outlinewidth": 0,
              "ticks": ""
             }
            },
            "type": "scattermapbox"
           }
          ],
          "scatterpolar": [
           {
            "marker": {
             "colorbar": {
              "outlinewidth": 0,
              "ticks": ""
             }
            },
            "type": "scatterpolar"
           }
          ],
          "scatterpolargl": [
           {
            "marker": {
             "colorbar": {
              "outlinewidth": 0,
              "ticks": ""
             }
            },
            "type": "scatterpolargl"
           }
          ],
          "scatterternary": [
           {
            "marker": {
             "colorbar": {
              "outlinewidth": 0,
              "ticks": ""
             }
            },
            "type": "scatterternary"
           }
          ],
          "surface": [
           {
            "colorbar": {
             "outlinewidth": 0,
             "ticks": ""
            },
            "colorscale": [
             [
              0,
              "#0d0887"
             ],
             [
              0.1111111111111111,
              "#46039f"
             ],
             [
              0.2222222222222222,
              "#7201a8"
             ],
             [
              0.3333333333333333,
              "#9c179e"
             ],
             [
              0.4444444444444444,
              "#bd3786"
             ],
             [
              0.5555555555555556,
              "#d8576b"
             ],
             [
              0.6666666666666666,
              "#ed7953"
             ],
             [
              0.7777777777777778,
              "#fb9f3a"
             ],
             [
              0.8888888888888888,
              "#fdca26"
             ],
             [
              1,
              "#f0f921"
             ]
            ],
            "type": "surface"
           }
          ],
          "table": [
           {
            "cells": {
             "fill": {
              "color": "#EBF0F8"
             },
             "line": {
              "color": "white"
             }
            },
            "header": {
             "fill": {
              "color": "#C8D4E3"
             },
             "line": {
              "color": "white"
             }
            },
            "type": "table"
           }
          ]
         },
         "layout": {
          "annotationdefaults": {
           "arrowcolor": "#2a3f5f",
           "arrowhead": 0,
           "arrowwidth": 1
          },
          "autotypenumbers": "strict",
          "coloraxis": {
           "colorbar": {
            "outlinewidth": 0,
            "ticks": ""
           }
          },
          "colorscale": {
           "diverging": [
            [
             0,
             "#8e0152"
            ],
            [
             0.1,
             "#c51b7d"
            ],
            [
             0.2,
             "#de77ae"
            ],
            [
             0.3,
             "#f1b6da"
            ],
            [
             0.4,
             "#fde0ef"
            ],
            [
             0.5,
             "#f7f7f7"
            ],
            [
             0.6,
             "#e6f5d0"
            ],
            [
             0.7,
             "#b8e186"
            ],
            [
             0.8,
             "#7fbc41"
            ],
            [
             0.9,
             "#4d9221"
            ],
            [
             1,
             "#276419"
            ]
           ],
           "sequential": [
            [
             0,
             "#0d0887"
            ],
            [
             0.1111111111111111,
             "#46039f"
            ],
            [
             0.2222222222222222,
             "#7201a8"
            ],
            [
             0.3333333333333333,
             "#9c179e"
            ],
            [
             0.4444444444444444,
             "#bd3786"
            ],
            [
             0.5555555555555556,
             "#d8576b"
            ],
            [
             0.6666666666666666,
             "#ed7953"
            ],
            [
             0.7777777777777778,
             "#fb9f3a"
            ],
            [
             0.8888888888888888,
             "#fdca26"
            ],
            [
             1,
             "#f0f921"
            ]
           ],
           "sequentialminus": [
            [
             0,
             "#0d0887"
            ],
            [
             0.1111111111111111,
             "#46039f"
            ],
            [
             0.2222222222222222,
             "#7201a8"
            ],
            [
             0.3333333333333333,
             "#9c179e"
            ],
            [
             0.4444444444444444,
             "#bd3786"
            ],
            [
             0.5555555555555556,
             "#d8576b"
            ],
            [
             0.6666666666666666,
             "#ed7953"
            ],
            [
             0.7777777777777778,
             "#fb9f3a"
            ],
            [
             0.8888888888888888,
             "#fdca26"
            ],
            [
             1,
             "#f0f921"
            ]
           ]
          },
          "colorway": [
           "#636efa",
           "#EF553B",
           "#00cc96",
           "#ab63fa",
           "#FFA15A",
           "#19d3f3",
           "#FF6692",
           "#B6E880",
           "#FF97FF",
           "#FECB52"
          ],
          "font": {
           "color": "#2a3f5f"
          },
          "geo": {
           "bgcolor": "white",
           "lakecolor": "white",
           "landcolor": "white",
           "showlakes": true,
           "showland": true,
           "subunitcolor": "#C8D4E3"
          },
          "hoverlabel": {
           "align": "left"
          },
          "hovermode": "closest",
          "mapbox": {
           "style": "light"
          },
          "paper_bgcolor": "white",
          "plot_bgcolor": "white",
          "polar": {
           "angularaxis": {
            "gridcolor": "#EBF0F8",
            "linecolor": "#EBF0F8",
            "ticks": ""
           },
           "bgcolor": "white",
           "radialaxis": {
            "gridcolor": "#EBF0F8",
            "linecolor": "#EBF0F8",
            "ticks": ""
           }
          },
          "scene": {
           "xaxis": {
            "backgroundcolor": "white",
            "gridcolor": "#DFE8F3",
            "gridwidth": 2,
            "linecolor": "#EBF0F8",
            "showbackground": true,
            "ticks": "",
            "zerolinecolor": "#EBF0F8"
           },
           "yaxis": {
            "backgroundcolor": "white",
            "gridcolor": "#DFE8F3",
            "gridwidth": 2,
            "linecolor": "#EBF0F8",
            "showbackground": true,
            "ticks": "",
            "zerolinecolor": "#EBF0F8"
           },
           "zaxis": {
            "backgroundcolor": "white",
            "gridcolor": "#DFE8F3",
            "gridwidth": 2,
            "linecolor": "#EBF0F8",
            "showbackground": true,
            "ticks": "",
            "zerolinecolor": "#EBF0F8"
           }
          },
          "shapedefaults": {
           "line": {
            "color": "#2a3f5f"
           }
          },
          "ternary": {
           "aaxis": {
            "gridcolor": "#DFE8F3",
            "linecolor": "#A2B1C6",
            "ticks": ""
           },
           "baxis": {
            "gridcolor": "#DFE8F3",
            "linecolor": "#A2B1C6",
            "ticks": ""
           },
           "bgcolor": "white",
           "caxis": {
            "gridcolor": "#DFE8F3",
            "linecolor": "#A2B1C6",
            "ticks": ""
           }
          },
          "title": {
           "x": 0.05
          },
          "xaxis": {
           "automargin": true,
           "gridcolor": "#EBF0F8",
           "linecolor": "#EBF0F8",
           "ticks": "",
           "title": {
            "standoff": 15
           },
           "zerolinecolor": "#EBF0F8",
           "zerolinewidth": 2
          },
          "yaxis": {
           "automargin": true,
           "gridcolor": "#EBF0F8",
           "linecolor": "#EBF0F8",
           "ticks": "",
           "title": {
            "standoff": 15
           },
           "zerolinecolor": "#EBF0F8",
           "zerolinewidth": 2
          }
         }
        },
        "title": {
         "text": "PPG Signal Preprocessing Stages (Sample Index 1000–2000)"
        },
        "width": 900,
        "xaxis": {
         "anchor": "y",
         "domain": [
          0,
          1
         ],
         "matches": "x5",
         "showticklabels": false
        },
        "xaxis2": {
         "anchor": "y2",
         "domain": [
          0,
          1
         ],
         "matches": "x5",
         "showticklabels": false
        },
        "xaxis3": {
         "anchor": "y3",
         "domain": [
          0,
          1
         ],
         "matches": "x5",
         "showticklabels": false
        },
        "xaxis4": {
         "anchor": "y4",
         "domain": [
          0,
          1
         ],
         "matches": "x5",
         "showticklabels": false
        },
        "xaxis5": {
         "anchor": "y5",
         "domain": [
          0,
          1
         ],
         "title": {
          "text": "Sample Index"
         }
        },
        "yaxis": {
         "anchor": "x",
         "domain": [
          0.824,
          1
         ]
        },
        "yaxis2": {
         "anchor": "x2",
         "domain": [
          0.618,
          0.794
         ]
        },
        "yaxis3": {
         "anchor": "x3",
         "domain": [
          0.412,
          0.588
         ],
         "title": {
          "text": "PPG Amplitude"
         }
        },
        "yaxis4": {
         "anchor": "x4",
         "domain": [
          0.206,
          0.382
         ]
        },
        "yaxis5": {
         "anchor": "x5",
         "domain": [
          0,
          0.176
         ]
        }
       }
      }
     },
     "metadata": {},
     "output_type": "display_data"
    }
   ],
   "source": [
    "import pandas as pd\n",
    "import numpy as np\n",
    "import plotly.graph_objects as go\n",
    "from plotly.subplots import make_subplots\n",
    "from scipy.signal import butter, filtfilt\n",
    "import pywt\n",
    "# ---- Load raw PPG ----\n",
    "file_path = r\"/home/avij/data/dataset/raw_data/patient_02.csv\"\n",
    "df = pd.read_csv(file_path)\n",
    "ppg_raw = df['PPG'].dropna().values\n",
    "\n",
    "# ---- Full Preprocessing Pipeline ----\n",
    "ppg_cleaned = remove_spike_outliers(ppg_raw.copy())     # New step\n",
    "ppg_norm = normalize_signal(ppg_cleaned)\n",
    "ppg_denoised = wavelet_denoise(ppg_norm)\n",
    "ppg_filtered = bandpass_filter(ppg_denoised)\n",
    "\n",
    "# ---- Slice for comparison ----\n",
    "start_idx = 1000\n",
    "end_idx = 2000\n",
    "x = np.arange(start_idx, end_idx)\n",
    "\n",
    "raw_slice = ppg_raw[start_idx:end_idx]\n",
    "cleaned_slice = ppg_cleaned[start_idx:end_idx]\n",
    "norm_slice = ppg_norm[start_idx:end_idx]\n",
    "denoise_slice = ppg_denoised[start_idx:end_idx]\n",
    "filtered_slice = ppg_filtered[start_idx:end_idx]\n",
    "\n",
    "# ---- Create 5 stacked plots ----\n",
    "fig = make_subplots(rows=5, cols=1,\n",
    "                    shared_xaxes=True,\n",
    "                    vertical_spacing=0.03,\n",
    "                    subplot_titles=(\n",
    "                        \"Raw PPG Signal\",\n",
    "                        \"After Spike Outlier Removal\",\n",
    "                        \"After Normalization\",\n",
    "                        \"After Wavelet Denoising\",\n",
    "                        \"After Bandpass Filtering\"\n",
    "                    ))\n",
    "\n",
    "fig.add_trace(go.Scatter(x=x, y=raw_slice, mode='lines', name='Raw'), row=1, col=1)\n",
    "fig.add_trace(go.Scatter(x=x, y=cleaned_slice, mode='lines', name='Cleaned'), row=2, col=1)\n",
    "fig.add_trace(go.Scatter(x=x, y=norm_slice, mode='lines', name='Normalized'), row=3, col=1)\n",
    "fig.add_trace(go.Scatter(x=x, y=denoise_slice, mode='lines', name='Denoised'), row=4, col=1)\n",
    "fig.add_trace(go.Scatter(x=x, y=filtered_slice, mode='lines', name='Filtered'), row=5, col=1)\n",
    "\n",
    "# ---- Layout ----\n",
    "fig.update_layout(\n",
    "    height=1300,\n",
    "    width=900,\n",
    "    title=\"PPG Signal Preprocessing Stages (Sample Index 1000–2000)\",\n",
    "    template=\"plotly_white\",\n",
    "    showlegend=False\n",
    ")\n",
    "\n",
    "fig.update_xaxes(title_text=\"Sample Index\", row=5, col=1)\n",
    "fig.update_yaxes(title_text=\"PPG Amplitude\", row=3, col=1)\n",
    "\n",
    "fig.show()"
   ]
  },
  {
   "cell_type": "code",
   "execution_count": 8,
   "id": "78640b89",
   "metadata": {},
   "outputs": [
    {
     "data": {
      "application/vnd.plotly.v1+json": {
       "config": {
        "plotlyServerURL": "https://plot.ly"
       },
       "data": [
        {
         "hovertemplate": "Sample Index=%{x}<br>PPG (Preprocessed)=%{y}<extra></extra>",
         "legendgroup": "",
         "line": {
          "color": "#636efa",
          "dash": "solid"
         },
         "marker": {
          "symbol": "circle"
         },
         "mode": "lines",
         "name": "",
         "orientation": "v",
         "showlegend": false,
         "type": "scatter",
         "x": {
          "bdata": "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",
          "dtype": "i2"
         },
         "xaxis": "x",
         "y": {
          "bdata": "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",
          "dtype": "f8"
         },
         "yaxis": "y"
        }
       ],
       "layout": {
        "legend": {
         "tracegroupgap": 0
        },
        "template": {
         "data": {
          "bar": [
           {
            "error_x": {
             "color": "#2a3f5f"
            },
            "error_y": {
             "color": "#2a3f5f"
            },
            "marker": {
             "line": {
              "color": "white",
              "width": 0.5
             },
             "pattern": {
              "fillmode": "overlay",
              "size": 10,
              "solidity": 0.2
             }
            },
            "type": "bar"
           }
          ],
          "barpolar": [
           {
            "marker": {
             "line": {
              "color": "white",
              "width": 0.5
             },
             "pattern": {
              "fillmode": "overlay",
              "size": 10,
              "solidity": 0.2
             }
            },
            "type": "barpolar"
           }
          ],
          "carpet": [
           {
            "aaxis": {
             "endlinecolor": "#2a3f5f",
             "gridcolor": "#C8D4E3",
             "linecolor": "#C8D4E3",
             "minorgridcolor": "#C8D4E3",
             "startlinecolor": "#2a3f5f"
            },
            "baxis": {
             "endlinecolor": "#2a3f5f",
             "gridcolor": "#C8D4E3",
             "linecolor": "#C8D4E3",
             "minorgridcolor": "#C8D4E3",
             "startlinecolor": "#2a3f5f"
            },
            "type": "carpet"
           }
          ],
          "choropleth": [
           {
            "colorbar": {
             "outlinewidth": 0,
             "ticks": ""
            },
            "type": "choropleth"
           }
          ],
          "contour": [
           {
            "colorbar": {
             "outlinewidth": 0,
             "ticks": ""
            },
            "colorscale": [
             [
              0,
              "#0d0887"
             ],
             [
              0.1111111111111111,
              "#46039f"
             ],
             [
              0.2222222222222222,
              "#7201a8"
             ],
             [
              0.3333333333333333,
              "#9c179e"
             ],
             [
              0.4444444444444444,
              "#bd3786"
             ],
             [
              0.5555555555555556,
              "#d8576b"
             ],
             [
              0.6666666666666666,
              "#ed7953"
             ],
             [
              0.7777777777777778,
              "#fb9f3a"
             ],
             [
              0.8888888888888888,
              "#fdca26"
             ],
             [
              1,
              "#f0f921"
             ]
            ],
            "type": "contour"
           }
          ],
          "contourcarpet": [
           {
            "colorbar": {
             "outlinewidth": 0,
             "ticks": ""
            },
            "type": "contourcarpet"
           }
          ],
          "heatmap": [
           {
            "colorbar": {
             "outlinewidth": 0,
             "ticks": ""
            },
            "colorscale": [
             [
              0,
              "#0d0887"
             ],
             [
              0.1111111111111111,
              "#46039f"
             ],
             [
              0.2222222222222222,
              "#7201a8"
             ],
             [
              0.3333333333333333,
              "#9c179e"
             ],
             [
              0.4444444444444444,
              "#bd3786"
             ],
             [
              0.5555555555555556,
              "#d8576b"
             ],
             [
              0.6666666666666666,
              "#ed7953"
             ],
             [
              0.7777777777777778,
              "#fb9f3a"
             ],
             [
              0.8888888888888888,
              "#fdca26"
             ],
             [
              1,
              "#f0f921"
             ]
            ],
            "type": "heatmap"
           }
          ],
          "histogram": [
           {
            "marker": {
             "pattern": {
              "fillmode": "overlay",
              "size": 10,
              "solidity": 0.2
             }
            },
            "type": "histogram"
           }
          ],
          "histogram2d": [
           {
            "colorbar": {
             "outlinewidth": 0,
             "ticks": ""
            },
            "colorscale": [
             [
              0,
              "#0d0887"
             ],
             [
              0.1111111111111111,
              "#46039f"
             ],
             [
              0.2222222222222222,
              "#7201a8"
             ],
             [
              0.3333333333333333,
              "#9c179e"
             ],
             [
              0.4444444444444444,
              "#bd3786"
             ],
             [
              0.5555555555555556,
              "#d8576b"
             ],
             [
              0.6666666666666666,
              "#ed7953"
             ],
             [
              0.7777777777777778,
              "#fb9f3a"
             ],
             [
              0.8888888888888888,
              "#fdca26"
             ],
             [
              1,
              "#f0f921"
             ]
            ],
            "type": "histogram2d"
           }
          ],
          "histogram2dcontour": [
           {
            "colorbar": {
             "outlinewidth": 0,
             "ticks": ""
            },
            "colorscale": [
             [
              0,
              "#0d0887"
             ],
             [
              0.1111111111111111,
              "#46039f"
             ],
             [
              0.2222222222222222,
              "#7201a8"
             ],
             [
              0.3333333333333333,
              "#9c179e"
             ],
             [
              0.4444444444444444,
              "#bd3786"
             ],
             [
              0.5555555555555556,
              "#d8576b"
             ],
             [
              0.6666666666666666,
              "#ed7953"
             ],
             [
              0.7777777777777778,
              "#fb9f3a"
             ],
             [
              0.8888888888888888,
              "#fdca26"
             ],
             [
              1,
              "#f0f921"
             ]
            ],
            "type": "histogram2dcontour"
           }
          ],
          "mesh3d": [
           {
            "colorbar": {
             "outlinewidth": 0,
             "ticks": ""
            },
            "type": "mesh3d"
           }
          ],
          "parcoords": [
           {
            "line": {
             "colorbar": {
              "outlinewidth": 0,
              "ticks": ""
             }
            },
            "type": "parcoords"
           }
          ],
          "pie": [
           {
            "automargin": true,
            "type": "pie"
           }
          ],
          "scatter": [
           {
            "fillpattern": {
             "fillmode": "overlay",
             "size": 10,
             "solidity": 0.2
            },
            "type": "scatter"
           }
          ],
          "scatter3d": [
           {
            "line": {
             "colorbar": {
              "outlinewidth": 0,
              "ticks": ""
             }
            },
            "marker": {
             "colorbar": {
              "outlinewidth": 0,
              "ticks": ""
             }
            },
            "type": "scatter3d"
           }
          ],
          "scattercarpet": [
           {
            "marker": {
             "colorbar": {
              "outlinewidth": 0,
              "ticks": ""
             }
            },
            "type": "scattercarpet"
           }
          ],
          "scattergeo": [
           {
            "marker": {
             "colorbar": {
              "outlinewidth": 0,
              "ticks": ""
             }
            },
            "type": "scattergeo"
           }
          ],
          "scattergl": [
           {
            "marker": {
             "colorbar": {
              "outlinewidth": 0,
              "ticks": ""
             }
            },
            "type": "scattergl"
           }
          ],
          "scattermap": [
           {
            "marker": {
             "colorbar": {
              "outlinewidth": 0,
              "ticks": ""
             }
            },
            "type": "scattermap"
           }
          ],
          "scattermapbox": [
           {
            "marker": {
             "colorbar": {
              "outlinewidth": 0,
              "ticks": ""
             }
            },
            "type": "scattermapbox"
           }
          ],
          "scatterpolar": [
           {
            "marker": {
             "colorbar": {
              "outlinewidth": 0,
              "ticks": ""
             }
            },
            "type": "scatterpolar"
           }
          ],
          "scatterpolargl": [
           {
            "marker": {
             "colorbar": {
              "outlinewidth": 0,
              "ticks": ""
             }
            },
            "type": "scatterpolargl"
           }
          ],
          "scatterternary": [
           {
            "marker": {
             "colorbar": {
              "outlinewidth": 0,
              "ticks": ""
             }
            },
            "type": "scatterternary"
           }
          ],
          "surface": [
           {
            "colorbar": {
             "outlinewidth": 0,
             "ticks": ""
            },
            "colorscale": [
             [
              0,
              "#0d0887"
             ],
             [
              0.1111111111111111,
              "#46039f"
             ],
             [
              0.2222222222222222,
              "#7201a8"
             ],
             [
              0.3333333333333333,
              "#9c179e"
             ],
             [
              0.4444444444444444,
              "#bd3786"
             ],
             [
              0.5555555555555556,
              "#d8576b"
             ],
             [
              0.6666666666666666,
              "#ed7953"
             ],
             [
              0.7777777777777778,
              "#fb9f3a"
             ],
             [
              0.8888888888888888,
              "#fdca26"
             ],
             [
              1,
              "#f0f921"
             ]
            ],
            "type": "surface"
           }
          ],
          "table": [
           {
            "cells": {
             "fill": {
              "color": "#EBF0F8"
             },
             "line": {
              "color": "white"
             }
            },
            "header": {
             "fill": {
              "color": "#C8D4E3"
             },
             "line": {
              "color": "white"
             }
            },
            "type": "table"
           }
          ]
         },
         "layout": {
          "annotationdefaults": {
           "arrowcolor": "#2a3f5f",
           "arrowhead": 0,
           "arrowwidth": 1
          },
          "autotypenumbers": "strict",
          "coloraxis": {
           "colorbar": {
            "outlinewidth": 0,
            "ticks": ""
           }
          },
          "colorscale": {
           "diverging": [
            [
             0,
             "#8e0152"
            ],
            [
             0.1,
             "#c51b7d"
            ],
            [
             0.2,
             "#de77ae"
            ],
            [
             0.3,
             "#f1b6da"
            ],
            [
             0.4,
             "#fde0ef"
            ],
            [
             0.5,
             "#f7f7f7"
            ],
            [
             0.6,
             "#e6f5d0"
            ],
            [
             0.7,
             "#b8e186"
            ],
            [
             0.8,
             "#7fbc41"
            ],
            [
             0.9,
             "#4d9221"
            ],
            [
             1,
             "#276419"
            ]
           ],
           "sequential": [
            [
             0,
             "#0d0887"
            ],
            [
             0.1111111111111111,
             "#46039f"
            ],
            [
             0.2222222222222222,
             "#7201a8"
            ],
            [
             0.3333333333333333,
             "#9c179e"
            ],
            [
             0.4444444444444444,
             "#bd3786"
            ],
            [
             0.5555555555555556,
             "#d8576b"
            ],
            [
             0.6666666666666666,
             "#ed7953"
            ],
            [
             0.7777777777777778,
             "#fb9f3a"
            ],
            [
             0.8888888888888888,
             "#fdca26"
            ],
            [
             1,
             "#f0f921"
            ]
           ],
           "sequentialminus": [
            [
             0,
             "#0d0887"
            ],
            [
             0.1111111111111111,
             "#46039f"
            ],
            [
             0.2222222222222222,
             "#7201a8"
            ],
            [
             0.3333333333333333,
             "#9c179e"
            ],
            [
             0.4444444444444444,
             "#bd3786"
            ],
            [
             0.5555555555555556,
             "#d8576b"
            ],
            [
             0.6666666666666666,
             "#ed7953"
            ],
            [
             0.7777777777777778,
             "#fb9f3a"
            ],
            [
             0.8888888888888888,
             "#fdca26"
            ],
            [
             1,
             "#f0f921"
            ]
           ]
          },
          "colorway": [
           "#636efa",
           "#EF553B",
           "#00cc96",
           "#ab63fa",
           "#FFA15A",
           "#19d3f3",
           "#FF6692",
           "#B6E880",
           "#FF97FF",
           "#FECB52"
          ],
          "font": {
           "color": "#2a3f5f"
          },
          "geo": {
           "bgcolor": "white",
           "lakecolor": "white",
           "landcolor": "white",
           "showlakes": true,
           "showland": true,
           "subunitcolor": "#C8D4E3"
          },
          "hoverlabel": {
           "align": "left"
          },
          "hovermode": "closest",
          "mapbox": {
           "style": "light"
          },
          "paper_bgcolor": "white",
          "plot_bgcolor": "white",
          "polar": {
           "angularaxis": {
            "gridcolor": "#EBF0F8",
            "linecolor": "#EBF0F8",
            "ticks": ""
           },
           "bgcolor": "white",
           "radialaxis": {
            "gridcolor": "#EBF0F8",
            "linecolor": "#EBF0F8",
            "ticks": ""
           }
          },
          "scene": {
           "xaxis": {
            "backgroundcolor": "white",
            "gridcolor": "#DFE8F3",
            "gridwidth": 2,
            "linecolor": "#EBF0F8",
            "showbackground": true,
            "ticks": "",
            "zerolinecolor": "#EBF0F8"
           },
           "yaxis": {
            "backgroundcolor": "white",
            "gridcolor": "#DFE8F3",
            "gridwidth": 2,
            "linecolor": "#EBF0F8",
            "showbackground": true,
            "ticks": "",
            "zerolinecolor": "#EBF0F8"
           },
           "zaxis": {
            "backgroundcolor": "white",
            "gridcolor": "#DFE8F3",
            "gridwidth": 2,
            "linecolor": "#EBF0F8",
            "showbackground": true,
            "ticks": "",
            "zerolinecolor": "#EBF0F8"
           }
          },
          "shapedefaults": {
           "line": {
            "color": "#2a3f5f"
           }
          },
          "ternary": {
           "aaxis": {
            "gridcolor": "#DFE8F3",
            "linecolor": "#A2B1C6",
            "ticks": ""
           },
           "baxis": {
            "gridcolor": "#DFE8F3",
            "linecolor": "#A2B1C6",
            "ticks": ""
           },
           "bgcolor": "white",
           "caxis": {
            "gridcolor": "#DFE8F3",
            "linecolor": "#A2B1C6",
            "ticks": ""
           }
          },
          "title": {
           "x": 0.05
          },
          "xaxis": {
           "automargin": true,
           "gridcolor": "#EBF0F8",
           "linecolor": "#EBF0F8",
           "ticks": "",
           "title": {
            "standoff": 15
           },
           "zerolinecolor": "#EBF0F8",
           "zerolinewidth": 2
          },
          "yaxis": {
           "automargin": true,
           "gridcolor": "#EBF0F8",
           "linecolor": "#EBF0F8",
           "ticks": "",
           "title": {
            "standoff": 15
           },
           "zerolinecolor": "#EBF0F8",
           "zerolinewidth": 2
          }
         }
        },
        "title": {
         "text": "Preprocessed PPG Signal (Samples 1000–2000) - patient_02"
        },
        "xaxis": {
         "anchor": "y",
         "domain": [
          0,
          1
         ],
         "title": {
          "text": "Sample Index"
         }
        },
        "yaxis": {
         "anchor": "x",
         "domain": [
          0,
          1
         ],
         "title": {
          "text": "PPG (Preprocessed)"
         }
        }
       }
      }
     },
     "metadata": {},
     "output_type": "display_data"
    }
   ],
   "source": [
    "import pandas as pd\n",
    "import numpy as np\n",
    "import plotly.express as px\n",
    "import pywt\n",
    "from scipy.signal import butter, filtfilt\n",
    "\n",
    "# ---- Load raw file ----\n",
    "file_path = r\"/home/avij/data/dataset/raw_data/patient_02.csv\"\n",
    "df = pd.read_csv(file_path)\n",
    "ppg = df['PPG'].dropna().values\n",
    "\n",
    "# ---- Apply full preprocessing with outlier handling ----\n",
    "ppg = remove_spike_outliers(ppg.copy())  # NEW: remove outliers\n",
    "ppg = normalize_signal(ppg)\n",
    "ppg = wavelet_denoise(ppg)\n",
    "ppg = bandpass_filter(ppg)\n",
    "\n",
    "# ---- Slice the preprocessed signal directly ----\n",
    "start_idx = 1000\n",
    "end_idx = 2000\n",
    "ppg_slice = ppg[start_idx:end_idx]\n",
    "\n",
    "# ---- Plot specified range ----\n",
    "slice_df = pd.DataFrame({\n",
    "    \"Sample Index\": np.arange(start_idx, end_idx),\n",
    "    \"PPG (Preprocessed)\": ppg_slice\n",
    "})\n",
    "\n",
    "fig = px.line(slice_df, x=\"Sample Index\", y=\"PPG (Preprocessed)\",\n",
    "              title=f\"Preprocessed PPG Signal (Samples {start_idx}–{end_idx}) - patient_02\")\n",
    "fig.update_layout(template='plotly_white')\n",
    "fig.show()"
   ]
  },
  {
   "cell_type": "code",
   "execution_count": 9,
   "id": "14c43749",
   "metadata": {},
   "outputs": [
    {
     "name": "stdout",
     "output_type": "stream",
     "text": [
      "🔄 Processing patient files for feature extraction...\n",
      "Found 29 CSV files\n",
      "📊 Processing patient_01.csv...\n",
      "📊 Processing patient_02.csv...\n",
      "📊 Processing patient_03.csv...\n",
      "📊 Processing patient_04.csv...\n",
      "📊 Processing patient_05.csv...\n",
      "📊 Processing patient_06.csv...\n",
      "📊 Processing patient_07.csv...\n",
      "📊 Processing patient_08.csv...\n",
      "📊 Processing patient_09.csv...\n",
      "📊 Processing patient_10.csv...\n",
      "📊 Processing patient_11.csv...\n",
      "📊 Processing patient_12.csv...\n",
      "📊 Processing patient_13.csv...\n",
      "📊 Processing patient_14.csv...\n",
      "📊 Processing patient_15.csv...\n",
      "📊 Processing patient_16.csv...\n",
      "📊 Processing patient_17.csv...\n",
      "📊 Processing patient_18.csv...\n",
      "📊 Processing patient_19.csv...\n",
      "📊 Processing patient_20.csv...\n",
      "📊 Processing patient_21.csv...\n",
      "📊 Processing patient_22.csv...\n",
      "📊 Processing patient_23.csv...\n",
      "📊 Processing patient_24.csv...\n",
      "📊 Processing patient_25.csv...\n",
      "📊 Processing patient_26.csv...\n",
      "📊 Processing patient_27.csv...\n",
      "📊 Processing patient_28.csv...\n",
      "📊 Processing patient_29.csv...\n",
      "✅ Feature extraction completed!\n",
      "Final Shape: (18929, 13)\n",
      "\n",
      "📋 Feature DataFrame Preview:\n",
      "       mean       std  kurtosis  skewness  systolic_peak_height    mean_hr  \\\n",
      "1 -0.001884  0.175709  2.063101  0.447475              0.299073  90.303981   \n",
      "2  0.000797  0.173358  1.937423  0.493281              0.306336  90.363831   \n",
      "3  0.000615  0.171813  1.880317  0.483170              0.303077  90.263652   \n",
      "4  0.000542  0.173166  1.845341  0.478160              0.304606  90.168243   \n",
      "5  0.001133  0.173578  1.850697  0.496819              0.307197  90.268422   \n",
      "\n",
      "   hrv_sdnn  notch_to_peak_time     source_file  segment_index         sbp  \\\n",
      "1  0.014252            0.209455  patient_01.csv              1  162.293121   \n",
      "2  0.003411            0.205818  patient_01.csv              2  162.293121   \n",
      "3  0.002300            0.206545  patient_01.csv              3  162.293121   \n",
      "4  0.004600            0.209455  patient_01.csv              4  162.293121   \n",
      "5  0.005344            0.210182  patient_01.csv              5  162.293121   \n",
      "\n",
      "          dbp         label  \n",
      "1  105.514197  hypertensive  \n",
      "2  105.514197  hypertensive  \n",
      "3  105.514197  hypertensive  \n",
      "4  105.514197  hypertensive  \n",
      "5  105.514197  hypertensive  \n",
      "\n",
      "📊 Class Distribution:\n",
      "label\n",
      "normotensive       8345\n",
      "hypertensive       8000\n",
      "prehypertensive    2584\n",
      "Name: count, dtype: int64\n"
     ]
    }
   ],
   "source": [
    "# ----- MAIN FEATURE EXTRACTION -----\n",
    "\n",
    "import os\n",
    "import pandas as pd\n",
    "import numpy as np\n",
    "\n",
    "# Ensure raw_folder is defined\n",
    "base_folder = r\"/home/avij/data/dataset\"\n",
    "raw_folder = os.path.join(base_folder, \"raw_data\")\n",
    "\n",
    "folder_path = raw_folder\n",
    "csv_files = [f for f in os.listdir(folder_path) if f.endswith(\".csv\")]\n",
    "\n",
    "features_list = []\n",
    "\n",
    "print(\"🔄 Processing patient files for feature extraction...\")\n",
    "print(f\"Found {len(csv_files)} CSV files\")\n",
    "\n",
    "for file in csv_files:\n",
    "    print(f\"📊 Processing {file}...\")\n",
    "    df = pd.read_csv(os.path.join(folder_path, file))\n",
    "    df = df.dropna().drop_duplicates()\n",
    "    \n",
    "    ppg = df['PPG'].values\n",
    "    sbp = df['SBP'].mean()\n",
    "    dbp = df['DBP'].mean()\n",
    "\n",
    "    # ✅ Add signal-level outlier removal\n",
    "    ppg = remove_spike_outliers(ppg.copy())\n",
    "    ppg = normalize_signal(ppg)\n",
    "    ppg = wavelet_denoise(ppg)\n",
    "    ppg = bandpass_filter(ppg)\n",
    "\n",
    "    segments = segment_signal(ppg)\n",
    "\n",
    "    for i, segment in enumerate(segments):\n",
    "        features = extract_features(segment)\n",
    "        features['source_file'] = file\n",
    "        features['segment_index'] = i\n",
    "        features['sbp'] = sbp\n",
    "        features['dbp'] = dbp\n",
    "        features['label'] = get_label(sbp, dbp)\n",
    "        features_list.append(features)\n",
    "\n",
    "# Create final DataFrame\n",
    "features_df = pd.DataFrame(features_list)\n",
    "\n",
    "# ✅ Optional: Remove feature-level outliers\n",
    "feature_cols = ['mean', 'std', 'kurtosis', 'skewness',\n",
    "                'systolic_peak_height', 'mean_hr', 'hrv_sdnn', 'notch_to_peak_time']\n",
    "\n",
    "features_df = remove_feature_outliers(features_df, feature_cols)\n",
    "\n",
    "print(\"✅ Feature extraction completed!\")\n",
    "print(\"Final Shape:\", features_df.shape)\n",
    "print(\"\\n📋 Feature DataFrame Preview:\")\n",
    "print(features_df.head())\n",
    "\n",
    "# Check class distribution\n",
    "print(f\"\\n📊 Class Distribution:\")\n",
    "print(features_df['label'].value_counts())"
   ]
  },
  {
   "cell_type": "code",
   "execution_count": 10,
   "id": "5399a80f",
   "metadata": {},
   "outputs": [],
   "source": [
    "# ----- SAVE FEATURES -----\n",
    "from sklearn.preprocessing import LabelEncoder\n",
    "\n",
    "le = LabelEncoder()\n",
    "features_df['label_encoded'] = le.fit_transform(features_df['label'])\n",
    "features_df.to_csv(\"extracted_ppg_features.csv\", index=False)"
   ]
  },
  {
   "cell_type": "code",
   "execution_count": 11,
   "id": "8f4e5c91",
   "metadata": {},
   "outputs": [
    {
     "name": "stdout",
     "output_type": "stream",
     "text": [
      "Accuracy:  0.9329\n",
      "Precision (macro):  0.9013\n",
      "F1 Score (macro):  0.8994\n"
     ]
    },
    {
     "data": {
      "image/png": "[encoded data removed]",
      "text/plain": [
       "<Figure size 640x480 with 2 Axes>"
      ]
     },
     "metadata": {},
     "output_type": "display_data"
    }
   ],
   "source": [
    "from sklearn.model_selection import train_test_split\n",
    "from sklearn.ensemble import RandomForestClassifier\n",
    "from sklearn.metrics import (\n",
    "    accuracy_score, precision_score, f1_score, confusion_matrix, ConfusionMatrixDisplay\n",
    ")\n",
    "\n",
    "# ----- MODEL TRAINING -----\n",
    "X = features_df.drop(columns=['label', 'source_file', 'segment_index', 'sbp', 'dbp', 'label_encoded'])\n",
    "y = features_df['label_encoded']\n",
    "\n",
    "# Train-test split\n",
    "X_train, X_test, y_train, y_test = train_test_split(\n",
    "    X, y, test_size=0.2, stratify=y, random_state=42\n",
    ")\n",
    "\n",
    "# Model training\n",
    "clf = RandomForestClassifier(n_estimators=100, random_state=42)\n",
    "clf.fit(X_train, y_train)\n",
    "\n",
    "# Prediction\n",
    "y_pred = clf.predict(X_test)\n",
    "\n",
    "# Metrics\n",
    "accuracy = accuracy_score(y_test, y_pred)\n",
    "precision = precision_score(y_test, y_pred, average='macro', zero_division=0)\n",
    "f1 = f1_score(y_test, y_pred, average='macro', zero_division=0)\n",
    "\n",
    "# Results\n",
    "print(f\"Accuracy:  {accuracy:.4f}\")\n",
    "print(f\"Precision (macro):  {precision:.4f}\")\n",
    "print(f\"F1 Score (macro):  {f1:.4f}\")\n",
    "\n",
    "# Confusion Matrix\n",
    "cm = confusion_matrix(y_test, y_pred)\n",
    "disp = ConfusionMatrixDisplay(confusion_matrix=cm)\n",
    "disp.plot(cmap=\"Blues\")\n",
    "plt.title(\"Random Forest - Confusion Matrix\")\n",
    "plt.grid(False)\n",
    "plt.show()\n"
   ]
  },
  {
   "cell_type": "code",
   "execution_count": 12,
   "id": "ecf84aee",
   "metadata": {},
   "outputs": [
    {
     "data": {
      "image/png": "[encoded data removed]",
      "text/plain": [
       "<Figure size 600x400 with 1 Axes>"
      ]
     },
     "metadata": {},
     "output_type": "display_data"
    }
   ],
   "source": [
    "from sklearn.model_selection import cross_val_score\n",
    "import matplotlib.pyplot as plt\n",
    "import numpy as np\n",
    "\n",
    "# 5-fold cross-validation\n",
    "scores = cross_val_score(clf, X, y, cv=5)\n",
    "\n",
    "# Plot\n",
    "plt.figure(figsize=(6,4))\n",
    "plt.plot(range(1, 6), scores, marker='o', linestyle='--')\n",
    "plt.ylim(0, 1)\n",
    "plt.title(\"Cross-Validation Accuracy per Fold\")\n",
    "plt.xlabel(\"Fold\")\n",
    "plt.ylabel(\"Accuracy\")\n",
    "plt.grid(True)\n",
    "plt.show()\n"
   ]
  },
  {
   "cell_type": "code",
   "execution_count": 13,
   "id": "d0c0dfd0",
   "metadata": {},
   "outputs": [
    {
     "name": "stdout",
     "output_type": "stream",
     "text": [
      "\n",
      "Evaluating: SVM (RBF Kernel)\n",
      "\n",
      "SVM (RBF Kernel) - Mean Scores Across Folds:\n",
      "Accuracy:  0.9040\n",
      "Precision (macro):  0.8609\n",
      "F1 Score (macro):  0.8765\n"
     ]
    },
    {
     "data": {
      "image/png": "[encoded data removed]",
      "text/plain": [
       "<Figure size 640x480 with 2 Axes>"
      ]
     },
     "metadata": {},
     "output_type": "display_data"
    },
    {
     "data": {
      "image/png": "[encoded data removed]",
      "text/plain": [
       "<Figure size 640x480 with 1 Axes>"
      ]
     },
     "metadata": {},
     "output_type": "display_data"
    },
    {
     "name": "stdout",
     "output_type": "stream",
     "text": [
      "\n",
      "Evaluating: Logistic Regression (Multinomial)\n"
     ]
    },
    {
     "name": "stderr",
     "output_type": "stream",
     "text": [
      "/home/avij/data/.venv/lib64/python3.13/site-packages/sklearn/linear_model/_logistic.py:1272: FutureWarning:\n",
      "\n",
      "'multi_class' was deprecated in version 1.5 and will be removed in 1.7. From then on, it will always use 'multinomial'. Leave it to its default value to avoid this warning.\n",
      "\n",
      "/home/avij/data/.venv/lib64/python3.13/site-packages/sklearn/linear_model/_logistic.py:1272: FutureWarning:\n",
      "\n",
      "'multi_class' was deprecated in version 1.5 and will be removed in 1.7. From then on, it will always use 'multinomial'. Leave it to its default value to avoid this warning.\n",
      "\n",
      "/home/avij/data/.venv/lib64/python3.13/site-packages/sklearn/linear_model/_logistic.py:1272: FutureWarning:\n",
      "\n",
      "'multi_class' was deprecated in version 1.5 and will be removed in 1.7. From then on, it will always use 'multinomial'. Leave it to its default value to avoid this warning.\n",
      "\n",
      "/home/avij/data/.venv/lib64/python3.13/site-packages/sklearn/linear_model/_logistic.py:1272: FutureWarning:\n",
      "\n",
      "'multi_class' was deprecated in version 1.5 and will be removed in 1.7. From then on, it will always use 'multinomial'. Leave it to its default value to avoid this warning.\n",
      "\n"
     ]
    },
    {
     "name": "stdout",
     "output_type": "stream",
     "text": [
      "\n",
      "Logistic Regression (Multinomial) - Mean Scores Across Folds:\n",
      "Accuracy:  0.8109\n",
      "Precision (macro):  0.7733\n",
      "F1 Score (macro):  0.7850\n"
     ]
    },
    {
     "name": "stderr",
     "output_type": "stream",
     "text": [
      "/home/avij/data/.venv/lib64/python3.13/site-packages/sklearn/linear_model/_logistic.py:1272: FutureWarning:\n",
      "\n",
      "'multi_class' was deprecated in version 1.5 and will be removed in 1.7. From then on, it will always use 'multinomial'. Leave it to its default value to avoid this warning.\n",
      "\n"
     ]
    },
    {
     "data": {
      "image/png": "[encoded data removed]",
      "text/plain": [
       "<Figure size 640x480 with 2 Axes>"
      ]
     },
     "metadata": {},
     "output_type": "display_data"
    },
    {
     "data": {
      "image/png": "[encoded data removed]",
      "text/plain": [
       "<Figure size 640x480 with 1 Axes>"
      ]
     },
     "metadata": {},
     "output_type": "display_data"
    }
   ],
   "source": [
    "from sklearn.model_selection import StratifiedKFold\n",
    "from sklearn.svm import SVC\n",
    "from sklearn.linear_model import LogisticRegression\n",
    "from sklearn.preprocessing import StandardScaler\n",
    "from sklearn.metrics import (\n",
    "    accuracy_score, precision_score, f1_score,\n",
    "    confusion_matrix, ConfusionMatrixDisplay\n",
    ")\n",
    "from sklearn.pipeline import Pipeline\n",
    "import numpy as np\n",
    "import matplotlib.pyplot as plt\n",
    "\n",
    "# Define models with class_weight='balanced' to handle imbalanced data\n",
    "models = {\n",
    "    \"SVM (RBF Kernel)\": SVC(\n",
    "        kernel='rbf', \n",
    "        C=1.0, \n",
    "        gamma='scale', \n",
    "        class_weight='balanced',\n",
    "        random_state=42\n",
    "    ),\n",
    "    \"Logistic Regression (Multinomial)\": LogisticRegression(\n",
    "        C=1.0,\n",
    "        penalty='l2',\n",
    "        max_iter=1000,\n",
    "        multi_class='multinomial',\n",
    "        solver='lbfgs',\n",
    "        class_weight='balanced',\n",
    "        random_state=42\n",
    "    )\n",
    "}\n",
    "\n",
    "# Cross-validation setup\n",
    "skf = StratifiedKFold(n_splits=5, shuffle=True, random_state=42)\n",
    "\n",
    "# Loop through each model\n",
    "for model_name, model in models.items():\n",
    "    print(f\"\\nEvaluating: {model_name}\")\n",
    "    \n",
    "    acc_scores = []\n",
    "    precision_scores = []\n",
    "    f1_scores = []\n",
    "    \n",
    "    all_y_true = []\n",
    "    all_y_pred = []\n",
    "\n",
    "    for fold, (train_idx, test_idx) in enumerate(skf.split(X, y), 1):\n",
    "        X_train, y_train = X.iloc[train_idx], y.iloc[train_idx]\n",
    "        X_test, y_test = X.iloc[test_idx], y.iloc[test_idx]\n",
    "\n",
    "        # Use standard Pipeline instead of ImbPipeline\n",
    "        pipeline = Pipeline(steps=[\n",
    "            ('scaler', StandardScaler()),\n",
    "            ('model', model)\n",
    "        ])\n",
    "\n",
    "        pipeline.fit(X_train, y_train)\n",
    "        y_pred = pipeline.predict(X_test)\n",
    "\n",
    "        # Collect metrics\n",
    "        acc_scores.append(accuracy_score(y_test, y_pred))\n",
    "        precision_scores.append(precision_score(y_test, y_pred, average='macro', zero_division=0))\n",
    "        f1_scores.append(f1_score(y_test, y_pred, average='macro', zero_division=0))\n",
    "\n",
    "        all_y_true.extend(y_test)\n",
    "        all_y_pred.extend(y_pred)\n",
    "\n",
    "    # Final summary metrics\n",
    "    print(f\"\\n{model_name} - Mean Scores Across Folds:\")\n",
    "    print(f\"Accuracy:  {np.mean(acc_scores):.4f}\")\n",
    "    print(f\"Precision (macro):  {np.mean(precision_scores):.4f}\")\n",
    "    print(f\"F1 Score (macro):  {np.mean(f1_scores):.4f}\")\n",
    "\n",
    "    # Aggregated Confusion Matrix\n",
    "    cm = confusion_matrix(all_y_true, all_y_pred)\n",
    "    disp = ConfusionMatrixDisplay(confusion_matrix=cm)\n",
    "    disp.plot(cmap=\"Blues\")\n",
    "    plt.title(f\"{model_name} - Aggregated Confusion Matrix\")\n",
    "    plt.grid(False)\n",
    "    plt.show()\n",
    "\n",
    "    # Plot fold-wise metrics\n",
    "    plt.figure()\n",
    "    plt.plot(range(1, 6), acc_scores, marker='o', linestyle='--', label='Accuracy')\n",
    "    plt.plot(range(1, 6), precision_scores, marker='s', linestyle='--', label='Precision')\n",
    "    plt.plot(range(1, 6), f1_scores, marker='^', linestyle='--', label='F1 Score')\n",
    "    plt.title(f\"{model_name} - Fold-wise Scores\")\n",
    "    plt.xlabel(\"Fold\")\n",
    "    plt.ylabel(\"Score\")\n",
    "    plt.ylim(0, 1)\n",
    "    plt.grid(True)\n",
    "    plt.legend()\n",
    "    plt.show()"
   ]
  },
  {
   "cell_type": "code",
   "execution_count": 14,
   "id": "2da2f3e7",
   "metadata": {},
   "outputs": [
    {
     "name": "stdout",
     "output_type": "stream",
     "text": [
      "🔍 COMPREHENSIVE BLOOD PRESSURE CLASSIFICATION MODEL ANALYSIS\n",
      "================================================================================\n",
      "\n",
      "📊 MODEL PERFORMANCE SUMMARY\n",
      "--------------------------------------------------\n",
      "\n",
      "🔬 Training Random Forest...\n",
      "✅ Random Forest:\n",
      "   Accuracy:  0.9329 (93.3%)\n",
      "   Precision: 0.9013\n",
      "   F1 Score:  0.8994\n",
      "\n",
      "🔬 Training SVM (RBF)...\n",
      "✅ SVM (RBF):\n",
      "   Accuracy:  0.8957 (89.6%)\n",
      "   Precision: 0.8524\n",
      "   F1 Score:  0.8664\n",
      "\n",
      "🔬 Training Logistic Regression...\n",
      "✅ Logistic Regression:\n",
      "   Accuracy:  0.8109 (81.1%)\n",
      "   Precision: 0.7739\n",
      "   F1 Score:  0.7848\n",
      "\n",
      "📈 CREATING PERFORMANCE COMPARISON CHARTS...\n"
     ]
    },
    {
     "data": {
      "image/png": "[encoded data removed]",
      "text/plain": [
       "<Figure size 1500x500 with 3 Axes>"
      ]
     },
     "metadata": {},
     "output_type": "display_data"
    },
    {
     "name": "stdout",
     "output_type": "stream",
     "text": [
      "\n",
      "📋 DETAILED CLASSIFICATION REPORTS\n",
      "--------------------------------------------------\n",
      "\n",
      "🔬 RANDOM FOREST - Classification Report:\n",
      "                 precision    recall  f1-score   support\n",
      "\n",
      "   hypertensive     0.9869    0.9912    0.9891      1600\n",
      "   normotensive     0.9229    0.9257    0.9243      1669\n",
      "prehypertensive     0.7941    0.7756    0.7847       517\n",
      "\n",
      "       accuracy                         0.9329      3786\n",
      "      macro avg     0.9013    0.8975    0.8994      3786\n",
      "   weighted avg     0.9324    0.9329    0.9326      3786\n",
      "\n",
      "\n",
      "🔬 SVM (RBF) - Classification Report:\n",
      "                 precision    recall  f1-score   support\n",
      "\n",
      "   hypertensive     0.9752    0.9844    0.9798      1600\n",
      "   normotensive     0.9671    0.7915    0.8705      1669\n",
      "prehypertensive     0.6149    0.9574    0.7489       517\n",
      "\n",
      "       accuracy                         0.8957      3786\n",
      "      macro avg     0.8524    0.9111    0.8664      3786\n",
      "   weighted avg     0.9224    0.8957    0.9001      3786\n",
      "\n",
      "\n",
      "🔬 LOGISTIC REGRESSION - Classification Report:\n",
      "                 precision    recall  f1-score   support\n",
      "\n",
      "   hypertensive     0.8927    0.9256    0.9089      1600\n",
      "   normotensive     0.8798    0.6711    0.7614      1669\n",
      "prehypertensive     0.5492    0.9072    0.6842       517\n",
      "\n",
      "       accuracy                         0.8109      3786\n",
      "      macro avg     0.7739    0.8346    0.7848      3786\n",
      "   weighted avg     0.8401    0.8109    0.8132      3786\n",
      "\n",
      "\n",
      "🎯 CONFUSION MATRICES COMPARISON\n",
      "--------------------------------------------------\n"
     ]
    },
    {
     "data": {
      "image/png": "[encoded data removed]",
      "text/plain": [
       "<Figure size 1500x400 with 6 Axes>"
      ]
     },
     "metadata": {},
     "output_type": "display_data"
    },
    {
     "name": "stdout",
     "output_type": "stream",
     "text": [
      "\n",
      "🏆 MODEL RANKING & RECOMMENDATIONS\n",
      "==================================================\n",
      "📊 FINAL RANKINGS (by Accuracy):\n",
      "🥇 1. Random Forest\n",
      "    Accuracy: 0.9329 (93.3%)\n",
      "    Precision: 0.9013\n",
      "    F1 Score: 0.8994\n",
      "🥈 2. SVM (RBF)\n",
      "    Accuracy: 0.8957 (89.6%)\n",
      "    Precision: 0.8524\n",
      "    F1 Score: 0.8664\n",
      "🥉 3. Logistic Regression\n",
      "    Accuracy: 0.8109 (81.1%)\n",
      "    Precision: 0.7739\n",
      "    F1 Score: 0.7848\n",
      "\n",
      "📈 CLASS-WISE PERFORMANCE ANALYSIS\n",
      "--------------------------------------------------\n",
      "\n",
      "Random Forest - Per Class Performance:\n",
      "     hypertensive: Precision=0.987, Recall=0.991, F1=0.989\n",
      "     normotensive: Precision=0.923, Recall=0.926, F1=0.924\n",
      "  prehypertensive: Precision=0.794, Recall=0.776, F1=0.785\n",
      "\n",
      "SVM (RBF) - Per Class Performance:\n",
      "     hypertensive: Precision=0.975, Recall=0.984, F1=0.980\n",
      "     normotensive: Precision=0.967, Recall=0.791, F1=0.871\n",
      "  prehypertensive: Precision=0.615, Recall=0.957, F1=0.749\n",
      "\n",
      "Logistic Regression - Per Class Performance:\n",
      "     hypertensive: Precision=0.893, Recall=0.926, F1=0.909\n",
      "     normotensive: Precision=0.880, Recall=0.671, F1=0.761\n",
      "  prehypertensive: Precision=0.549, Recall=0.907, F1=0.684\n",
      "\n",
      "💡 FINAL RECOMMENDATIONS\n",
      "==================================================\n",
      "🎯 BEST MODEL: Random Forest\n",
      "   • Achieves 93.3% accuracy\n",
      "   • Recommended for deployment in real-time BP classification system\n",
      "\n",
      "🔍 MODEL CHARACTERISTICS:\n",
      "   • Random Forest: Best overall performance, handles non-linear patterns well\n",
      "   • SVM: Good generalization, robust to outliers\n",
      "   • Logistic Regression: Fast inference, good baseline performance\n",
      "\n",
      "⚡ DEPLOYMENT CONSIDERATIONS:\n",
      "   • Use Random Forest for highest accuracy\n",
      "   • Consider Random Forest for feature importance analysis\n",
      "   • Use Logistic Regression for fastest real-time inference\n",
      "\n",
      "✅ ANALYSIS COMPLETE!\n",
      "================================================================================\n"
     ]
    }
   ],
   "source": [
    "# ===== COMPREHENSIVE MODEL ANALYSIS & COMPARISON =====\n",
    "import pandas as pd\n",
    "import numpy as np\n",
    "import matplotlib.pyplot as plt\n",
    "from sklearn.metrics import classification_report\n",
    "import seaborn as sns\n",
    "\n",
    "print(\"🔍 COMPREHENSIVE BLOOD PRESSURE CLASSIFICATION MODEL ANALYSIS\")\n",
    "print(\"=\" * 80)\n",
    "\n",
    "# ===== 1. MODEL PERFORMANCE SUMMARY =====\n",
    "print(\"\\n📊 MODEL PERFORMANCE SUMMARY\")\n",
    "print(\"-\" * 50)\n",
    "\n",
    "# Train all models on the same data for fair comparison\n",
    "from sklearn.model_selection import train_test_split\n",
    "from sklearn.preprocessing import StandardScaler\n",
    "\n",
    "# Prepare data\n",
    "X_analysis = features_df.drop(columns=['label', 'source_file', 'segment_index', 'sbp', 'dbp', 'label_encoded'])\n",
    "y_analysis = features_df['label_encoded']\n",
    "\n",
    "X_train_analysis, X_test_analysis, y_train_analysis, y_test_analysis = train_test_split(\n",
    "    X_analysis, y_analysis, test_size=0.2, stratify=y_analysis, random_state=42\n",
    ")\n",
    "\n",
    "# Scale data for SVM and Logistic Regression\n",
    "scaler_analysis = StandardScaler()\n",
    "X_train_scaled = scaler_analysis.fit_transform(X_train_analysis)\n",
    "X_test_scaled = scaler_analysis.transform(X_test_analysis)\n",
    "\n",
    "# Initialize models (enable probability for SVM)\n",
    "models_analysis = {\n",
    "    'Random Forest': RandomForestClassifier(n_estimators=100, random_state=42),\n",
    "    'SVM (RBF)': SVC(kernel='rbf', C=1.0, gamma='scale', class_weight='balanced', \n",
    "                     probability=True, random_state=42),  # Enable probability\n",
    "    'Logistic Regression': LogisticRegression(C=1.0, penalty='l2', max_iter=1000, \n",
    "                                            class_weight='balanced', random_state=42)\n",
    "}\n",
    "\n",
    "# Store results\n",
    "results = {}\n",
    "\n",
    "# Train and evaluate each model\n",
    "for name, model in models_analysis.items():\n",
    "    print(f\"\\n🔬 Training {name}...\")\n",
    "    \n",
    "    if name == 'Random Forest':\n",
    "        # Random Forest doesn't need scaling\n",
    "        model.fit(X_train_analysis, y_train_analysis)\n",
    "        y_pred = model.predict(X_test_analysis)\n",
    "        y_pred_proba = model.predict_proba(X_test_analysis)\n",
    "    else:\n",
    "        # SVM and Logistic Regression use scaled data\n",
    "        model.fit(X_train_scaled, y_train_analysis)\n",
    "        y_pred = model.predict(X_test_scaled)\n",
    "        y_pred_proba = model.predict_proba(X_test_scaled)\n",
    "    \n",
    "    # Calculate metrics\n",
    "    accuracy = accuracy_score(y_test_analysis, y_pred)\n",
    "    precision = precision_score(y_test_analysis, y_pred, average='macro', zero_division=0)\n",
    "    f1 = f1_score(y_test_analysis, y_pred, average='macro', zero_division=0)\n",
    "    \n",
    "    results[name] = {\n",
    "        'accuracy': accuracy,\n",
    "        'precision': precision,\n",
    "        'f1_score': f1,\n",
    "        'predictions': y_pred,\n",
    "        'probabilities': y_pred_proba\n",
    "    }\n",
    "    \n",
    "    print(f\"✅ {name}:\")\n",
    "    print(f\"   Accuracy:  {accuracy:.4f} ({accuracy*100:.1f}%)\")\n",
    "    print(f\"   Precision: {precision:.4f}\")\n",
    "    print(f\"   F1 Score:  {f1:.4f}\")\n",
    "\n",
    "# ===== 2. PERFORMANCE COMPARISON CHART =====\n",
    "print(f\"\\n📈 CREATING PERFORMANCE COMPARISON CHARTS...\")\n",
    "\n",
    "# Create comparison dataframe\n",
    "comparison_df = pd.DataFrame({\n",
    "    'Model': list(results.keys()),\n",
    "    'Accuracy': [results[model]['accuracy'] for model in results.keys()],\n",
    "    'Precision': [results[model]['precision'] for model in results.keys()],\n",
    "    'F1 Score': [results[model]['f1_score'] for model in results.keys()]\n",
    "})\n",
    "\n",
    "# Plot comparison\n",
    "fig, axes = plt.subplots(1, 3, figsize=(15, 5))\n",
    "\n",
    "# Accuracy comparison\n",
    "axes[0].bar(comparison_df['Model'], comparison_df['Accuracy'], \n",
    "           color=['#2E8B57', '#4169E1', '#DC143C'], alpha=0.8)\n",
    "axes[0].set_title('Model Accuracy Comparison', fontsize=14, fontweight='bold')\n",
    "axes[0].set_ylabel('Accuracy')\n",
    "axes[0].set_ylim(0.5, 1.0)\n",
    "for i, v in enumerate(comparison_df['Accuracy']):\n",
    "    axes[0].text(i, v + 0.01, f'{v:.3f}\\n({v*100:.1f}%)', ha='center', fontweight='bold')\n",
    "\n",
    "# Precision comparison\n",
    "axes[1].bar(comparison_df['Model'], comparison_df['Precision'], \n",
    "           color=['#2E8B57', '#4169E1', '#DC143C'], alpha=0.8)\n",
    "axes[1].set_title('Model Precision Comparison', fontsize=14, fontweight='bold')\n",
    "axes[1].set_ylabel('Precision (Macro)')\n",
    "axes[1].set_ylim(0.5, 1.0)\n",
    "for i, v in enumerate(comparison_df['Precision']):\n",
    "    axes[1].text(i, v + 0.01, f'{v:.3f}', ha='center', fontweight='bold')\n",
    "\n",
    "# F1 Score comparison\n",
    "axes[2].bar(comparison_df['Model'], comparison_df['F1 Score'], \n",
    "           color=['#2E8B57', '#4169E1', '#DC143C'], alpha=0.8)\n",
    "axes[2].set_title('Model F1 Score Comparison', fontsize=14, fontweight='bold')\n",
    "axes[2].set_ylabel('F1 Score (Macro)')\n",
    "axes[2].set_ylim(0.5, 1.0)\n",
    "for i, v in enumerate(comparison_df['F1 Score']):\n",
    "    axes[2].text(i, v + 0.01, f'{v:.3f}', ha='center', fontweight='bold')\n",
    "\n",
    "plt.tight_layout()\n",
    "plt.show()\n",
    "\n",
    "# ===== 3. DETAILED CLASSIFICATION REPORTS =====\n",
    "print(f\"\\n📋 DETAILED CLASSIFICATION REPORTS\")\n",
    "print(\"-\" * 50)\n",
    "\n",
    "class_names = le.classes_\n",
    "\n",
    "for name in results.keys():\n",
    "    print(f\"\\n🔬 {name.upper()} - Classification Report:\")\n",
    "    print(classification_report(y_test_analysis, results[name]['predictions'], \n",
    "                              target_names=class_names, digits=4))\n",
    "\n",
    "# ===== 4. CONFUSION MATRICES COMPARISON =====\n",
    "print(f\"\\n🎯 CONFUSION MATRICES COMPARISON\")\n",
    "print(\"-\" * 50)\n",
    "\n",
    "fig, axes = plt.subplots(1, 3, figsize=(15, 4))\n",
    "\n",
    "for i, (name, result) in enumerate(results.items()):\n",
    "    cm = confusion_matrix(y_test_analysis, result['predictions'])\n",
    "    \n",
    "    # Calculate percentages for better visualization\n",
    "    cm_percent = cm.astype('float') / cm.sum(axis=1)[:, np.newaxis] * 100\n",
    "    \n",
    "    # Create heatmap\n",
    "    sns.heatmap(cm_percent, annot=True, fmt='.1f', cmap='Blues', \n",
    "                xticklabels=class_names, yticklabels=class_names, ax=axes[i])\n",
    "    axes[i].set_title(f'{name}\\nConfusion Matrix (%)', fontweight='bold')\n",
    "    axes[i].set_xlabel('Predicted')\n",
    "    axes[i].set_ylabel('Actual')\n",
    "\n",
    "plt.tight_layout()\n",
    "plt.show()\n",
    "\n",
    "# ===== 5. MODEL RANKING & RECOMMENDATIONS =====\n",
    "print(f\"\\n🏆 MODEL RANKING & RECOMMENDATIONS\")\n",
    "print(\"=\" * 50)\n",
    "\n",
    "# Rank models by accuracy\n",
    "ranked_models = sorted(results.items(), key=lambda x: x[1]['accuracy'], reverse=True)\n",
    "\n",
    "print(\"📊 FINAL RANKINGS (by Accuracy):\")\n",
    "for rank, (name, metrics) in enumerate(ranked_models, 1):\n",
    "    emoji = \"🥇\" if rank == 1 else \"🥈\" if rank == 2 else \"🥉\"\n",
    "    print(f\"{emoji} {rank}. {name}\")\n",
    "    print(f\"    Accuracy: {metrics['accuracy']:.4f} ({metrics['accuracy']*100:.1f}%)\")\n",
    "    print(f\"    Precision: {metrics['precision']:.4f}\")\n",
    "    print(f\"    F1 Score: {metrics['f1_score']:.4f}\")\n",
    "\n",
    "# ===== 6. CLASS-WISE PERFORMANCE ANALYSIS =====\n",
    "print(f\"\\n📈 CLASS-WISE PERFORMANCE ANALYSIS\")\n",
    "print(\"-\" * 50)\n",
    "\n",
    "for name in results.keys():\n",
    "    print(f\"\\n{name} - Per Class Performance:\")\n",
    "    report = classification_report(y_test_analysis, results[name]['predictions'], \n",
    "                                 target_names=class_names, output_dict=True)\n",
    "    \n",
    "    for class_name in class_names:\n",
    "        if class_name in report:\n",
    "            recall = report[class_name]['recall']\n",
    "            precision = report[class_name]['precision']\n",
    "            f1 = report[class_name]['f1-score']\n",
    "            print(f\"  {class_name:>15}: Precision={precision:.3f}, Recall={recall:.3f}, F1={f1:.3f}\")\n",
    "\n",
    "# ===== 7. FINAL RECOMMENDATIONS =====\n",
    "print(f\"\\n💡 FINAL RECOMMENDATIONS\")\n",
    "print(\"=\" * 50)\n",
    "\n",
    "best_model_name = ranked_models[0][0]\n",
    "best_accuracy = ranked_models[0][1]['accuracy']\n",
    "\n",
    "print(f\"🎯 BEST MODEL: {best_model_name}\")\n",
    "print(f\"   • Achieves {best_accuracy*100:.1f}% accuracy\")\n",
    "print(f\"   • Recommended for deployment in real-time BP classification system\")\n",
    "\n",
    "print(f\"\\n🔍 MODEL CHARACTERISTICS:\")\n",
    "print(f\"   • Random Forest: Best overall performance, handles non-linear patterns well\")\n",
    "print(f\"   • SVM: Good generalization, robust to outliers\")  \n",
    "print(f\"   • Logistic Regression: Fast inference, good baseline performance\")\n",
    "\n",
    "print(f\"\\n⚡ DEPLOYMENT CONSIDERATIONS:\")\n",
    "print(f\"   • Use {best_model_name} for highest accuracy\")\n",
    "print(f\"   • Consider Random Forest for feature importance analysis\")\n",
    "print(f\"   • Use Logistic Regression for fastest real-time inference\")\n",
    "\n",
    "print(f\"\\n✅ ANALYSIS COMPLETE!\")\n",
    "print(\"=\" * 80)"
   ]
  },
  {
   "cell_type": "code",
   "execution_count": 15,
   "id": "efcc1e0e",
   "metadata": {},
   "outputs": [
    {
     "name": "stdout",
     "output_type": "stream",
     "text": [
      "💾 SAVING HIGH-PERFORMANCE RANDOM FOREST MODEL\n",
      "============================================================\n",
      "✅ Saved Files:\n",
      "   • bp_classification_model_enhanced.pkl - Random Forest (93.3% accuracy)\n",
      "   • label_encoder_enhanced.pkl - Label encoder\n",
      "   • Verified accuracy: 93.3%\n",
      "🎯 Model ready for real-time integration!\n"
     ]
    }
   ],
   "source": [
    "# ===== SAVE HIGH-PERFORMANCE MODEL =====\n",
    "import joblib\n",
    "\n",
    "print(\"💾 SAVING HIGH-PERFORMANCE RANDOM FOREST MODEL\")\n",
    "print(\"=\" * 60)\n",
    "\n",
    "# Save the best Random Forest model (93.3% accuracy)\n",
    "best_rf_model = RandomForestClassifier(n_estimators=100, random_state=42)\n",
    "best_rf_model.fit(X_train_analysis, y_train_analysis)\n",
    "\n",
    "# Save model and encoder\n",
    "joblib.dump(best_rf_model, 'bp_classification_model_enhanced.pkl')\n",
    "joblib.dump(le, 'label_encoder_enhanced.pkl')\n",
    "\n",
    "print(\"✅ Saved Files:\")\n",
    "print(\"   • bp_classification_model_enhanced.pkl - Random Forest (93.3% accuracy)\")\n",
    "print(\"   • label_encoder_enhanced.pkl - Label encoder\")\n",
    "\n",
    "# Test the saved model\n",
    "loaded_model = joblib.load('bp_classification_model_enhanced.pkl')\n",
    "loaded_encoder = joblib.load('label_encoder_enhanced.pkl')\n",
    "\n",
    "test_accuracy = accuracy_score(y_test_analysis, loaded_model.predict(X_test_analysis))\n",
    "print(f\"   • Verified accuracy: {test_accuracy*100:.1f}%\")\n",
    "print(\"🎯 Model ready for real-time integration!\")"
   ]
  },
  {
   "cell_type": "code",
   "execution_count": 16,
   "id": "9ff0c66f",
   "metadata": {},
   "outputs": [
    {
     "name": "stdout",
     "output_type": "stream",
     "text": [
      "🔬 BLOOD PRESSURE REGRESSION ANALYSIS\n",
      "================================================================================\n",
      "📊 Predicting continuous BP values (SBP & DBP) using PPG features\n",
      "\n",
      "📋 PREPARING REGRESSION DATASET\n",
      "--------------------------------------------------\n",
      "Feature dimensions: (18929, 8)\n",
      "SBP range: 62.1 - 183.3 mmHg\n",
      "DBP range: 68.0 - 434.9 mmHg\n"
     ]
    }
   ],
   "source": [
    "# ===== REGRESSION MODELS FOR BLOOD PRESSURE PREDICTION =====\n",
    "from sklearn.ensemble import RandomForestRegressor, GradientBoostingRegressor\n",
    "from sklearn.linear_model import LinearRegression, Ridge, Lasso\n",
    "from sklearn.svm import SVR\n",
    "from sklearn.metrics import mean_squared_error, mean_absolute_error, r2_score\n",
    "from sklearn.model_selection import cross_val_score\n",
    "import numpy as np\n",
    "import matplotlib.pyplot as plt\n",
    "import pandas as pd\n",
    "\n",
    "print(\"🔬 BLOOD PRESSURE REGRESSION ANALYSIS\")\n",
    "print(\"=\" * 80)\n",
    "print(\"📊 Predicting continuous BP values (SBP & DBP) using PPG features\")\n",
    "\n",
    "# ===== PREPARE REGRESSION DATA =====\n",
    "print(\"\\n📋 PREPARING REGRESSION DATASET\")\n",
    "print(\"-\" * 50)\n",
    "\n",
    "# Use the same features but predict continuous BP values\n",
    "# FIXED: Remove 'sbp' and 'dbp' from features to avoid data leakage\n",
    "X_reg = features_df.drop(columns=['label', 'source_file', 'segment_index', 'label_encoded', 'sbp', 'dbp'])\n",
    "y_sbp = features_df['sbp']  # Systolic BP target\n",
    "y_dbp = features_df['dbp']  # Diastolic BP target\n",
    "\n",
    "print(f\"Feature dimensions: {X_reg.shape}\")\n",
    "print(f\"SBP range: {y_sbp.min():.1f} - {y_sbp.max():.1f} mmHg\")\n",
    "print(f\"DBP range: {y_dbp.min():.1f} - {y_dbp.max():.1f} mmHg\")\n",
    "\n",
    "# Train-test split for regression\n",
    "X_train_reg, X_test_reg, y_sbp_train, y_sbp_test = train_test_split(\n",
    "    X_reg, y_sbp, test_size=0.2, random_state=42\n",
    ")\n",
    "\n",
    "_, _, y_dbp_train, y_dbp_test = train_test_split(\n",
    "    X_reg, y_dbp, test_size=0.2, random_state=42\n",
    ")\n",
    "\n",
    "# Scale features for regression\n",
    "scaler_reg = StandardScaler()\n",
    "X_train_reg_scaled = scaler_reg.fit_transform(X_train_reg)\n",
    "X_test_reg_scaled = scaler_reg.transform(X_test_reg)"
   ]
  },
  {
   "cell_type": "code",
   "execution_count": 17,
   "id": "86a5dd65",
   "metadata": {},
   "outputs": [
    {
     "name": "stdout",
     "output_type": "stream",
     "text": [
      "\n",
      "🤖 INITIALIZING REGRESSION MODELS\n",
      "--------------------------------------------------\n",
      "📝 Initialized 6 regression models\n",
      "   • Linear Regression\n",
      "   • Ridge Regression\n",
      "   • Lasso Regression\n",
      "   • Random Forest\n",
      "   • Gradient Boosting\n",
      "   • SVR (RBF)\n",
      "\n",
      "🩺 SYSTOLIC BLOOD PRESSURE (SBP) PREDICTION\n",
      "============================================================\n",
      "\n",
      "🔬 Training Linear Regression for SBP prediction...\n",
      "✅ Linear Regression SBP Results:\n",
      "   RMSE: 22.58 mmHg\n",
      "   MAE:  19.56 mmHg\n",
      "   R²:   0.4499\n",
      "\n",
      "🔬 Training Ridge Regression for SBP prediction...\n",
      "✅ Ridge Regression SBP Results:\n",
      "   RMSE: 22.58 mmHg\n",
      "   MAE:  19.56 mmHg\n",
      "   R²:   0.4499\n",
      "\n",
      "🔬 Training Lasso Regression for SBP prediction...\n",
      "✅ Lasso Regression SBP Results:\n",
      "   RMSE: 22.87 mmHg\n",
      "   MAE:  19.95 mmHg\n",
      "   R²:   0.4355\n",
      "\n",
      "🔬 Training Random Forest for SBP prediction...\n",
      "✅ Random Forest SBP Results:\n",
      "   RMSE: 8.26 mmHg\n",
      "   MAE:  3.54 mmHg\n",
      "   R²:   0.9263\n",
      "\n",
      "🔬 Training Gradient Boosting for SBP prediction...\n",
      "✅ Gradient Boosting SBP Results:\n",
      "   RMSE: 10.47 mmHg\n",
      "   MAE:  6.20 mmHg\n",
      "   R²:   0.8816\n",
      "\n",
      "🔬 Training SVR (RBF) for SBP prediction...\n",
      "✅ SVR (RBF) SBP Results:\n",
      "   RMSE: 15.01 mmHg\n",
      "   MAE:  9.22 mmHg\n",
      "   R²:   0.7568\n",
      "\n",
      "🩺 DIASTOLIC BLOOD PRESSURE (DBP) PREDICTION\n",
      "============================================================\n",
      "\n",
      "🔬 Training Linear Regression for DBP prediction...\n",
      "✅ Linear Regression DBP Results:\n",
      "   RMSE: 21.30 mmHg\n",
      "   MAE:  10.30 mmHg\n",
      "   R²:   0.1716\n",
      "\n",
      "🔬 Training Ridge Regression for DBP prediction...\n",
      "✅ Ridge Regression DBP Results:\n",
      "   RMSE: 21.30 mmHg\n",
      "   MAE:  10.30 mmHg\n",
      "   R²:   0.1716\n",
      "\n",
      "🔬 Training Lasso Regression for DBP prediction...\n",
      "✅ Lasso Regression DBP Results:\n",
      "   RMSE: 21.37 mmHg\n",
      "   MAE:  10.56 mmHg\n",
      "   R²:   0.1655\n",
      "\n",
      "🔬 Training Random Forest for DBP prediction...\n",
      "✅ Random Forest DBP Results:\n",
      "   RMSE: 18.18 mmHg\n",
      "   MAE:  2.51 mmHg\n",
      "   R²:   0.3963\n",
      "\n",
      "🔬 Training Gradient Boosting for DBP prediction...\n",
      "✅ Gradient Boosting DBP Results:\n",
      "   RMSE: 18.69 mmHg\n",
      "   MAE:  4.24 mmHg\n",
      "   R²:   0.3620\n",
      "\n",
      "🔬 Training SVR (RBF) for DBP prediction...\n",
      "✅ SVR (RBF) DBP Results:\n",
      "   RMSE: 19.30 mmHg\n",
      "   MAE:  5.02 mmHg\n",
      "   R²:   0.3197\n"
     ]
    }
   ],
   "source": [
    "# ===== DEFINE REGRESSION MODELS =====\n",
    "print(\"\\n🤖 INITIALIZING REGRESSION MODELS\")\n",
    "print(\"-\" * 50)\n",
    "\n",
    "regression_models = {\n",
    "    'Linear Regression': LinearRegression(),\n",
    "    'Ridge Regression': Ridge(alpha=1.0, random_state=42),\n",
    "    'Lasso Regression': Lasso(alpha=1.0, random_state=42),\n",
    "    'Random Forest': RandomForestRegressor(n_estimators=100, random_state=42),\n",
    "    'Gradient Boosting': GradientBoostingRegressor(n_estimators=100, random_state=42),\n",
    "    'SVR (RBF)': SVR(kernel='rbf', C=1.0, gamma='scale')\n",
    "}\n",
    "\n",
    "print(f\"📝 Initialized {len(regression_models)} regression models\")\n",
    "for model_name in regression_models.keys():\n",
    "    print(f\"   • {model_name}\")\n",
    "\n",
    "# ===== TRAIN AND EVALUATE MODELS FOR SBP PREDICTION =====\n",
    "print(\"\\n🩺 SYSTOLIC BLOOD PRESSURE (SBP) PREDICTION\")\n",
    "print(\"=\" * 60)\n",
    "\n",
    "sbp_results = {}\n",
    "\n",
    "for name, model in regression_models.items():\n",
    "    print(f\"\\n🔬 Training {name} for SBP prediction...\")\n",
    "    \n",
    "    # Choose appropriate data (scaled for linear models, original for tree-based)\n",
    "    if name in ['Linear Regression', 'Ridge Regression', 'Lasso Regression', 'SVR (RBF)']:\n",
    "        X_train_use = X_train_reg_scaled\n",
    "        X_test_use = X_test_reg_scaled\n",
    "    else:\n",
    "        X_train_use = X_train_reg\n",
    "        X_test_use = X_test_reg\n",
    "    \n",
    "    # Train model\n",
    "    model.fit(X_train_use, y_sbp_train)\n",
    "    \n",
    "    # Make predictions\n",
    "    y_sbp_pred = model.predict(X_test_use)\n",
    "    \n",
    "    # Calculate metrics\n",
    "    mse = mean_squared_error(y_sbp_test, y_sbp_pred)\n",
    "    rmse = np.sqrt(mse)\n",
    "    mae = mean_absolute_error(y_sbp_test, y_sbp_pred)\n",
    "    r2 = r2_score(y_sbp_test, y_sbp_pred)\n",
    "    \n",
    "    # Store results\n",
    "    sbp_results[name] = {\n",
    "        'mse': mse,\n",
    "        'rmse': rmse,\n",
    "        'mae': mae,\n",
    "        'r2': r2,\n",
    "        'predictions': y_sbp_pred\n",
    "    }\n",
    "    \n",
    "    print(f\"✅ {name} SBP Results:\")\n",
    "    print(f\"   RMSE: {rmse:.2f} mmHg\")\n",
    "    print(f\"   MAE:  {mae:.2f} mmHg\") \n",
    "    print(f\"   R²:   {r2:.4f}\")\n",
    "\n",
    "# ===== TRAIN AND EVALUATE MODELS FOR DBP PREDICTION =====\n",
    "print(\"\\n🩺 DIASTOLIC BLOOD PRESSURE (DBP) PREDICTION\") \n",
    "print(\"=\" * 60)\n",
    "\n",
    "dbp_results = {}\n",
    "\n",
    "for name, model in regression_models.items():\n",
    "    print(f\"\\n🔬 Training {name} for DBP prediction...\")\n",
    "    \n",
    "    # Reinitialize model for fresh training\n",
    "    if name == 'Linear Regression':\n",
    "        model = LinearRegression()\n",
    "    elif name == 'Ridge Regression':\n",
    "        model = Ridge(alpha=1.0, random_state=42)\n",
    "    elif name == 'Lasso Regression':\n",
    "        model = Lasso(alpha=1.0, random_state=42)\n",
    "    elif name == 'Random Forest':\n",
    "        model = RandomForestRegressor(n_estimators=100, random_state=42)\n",
    "    elif name == 'Gradient Boosting':\n",
    "        model = GradientBoostingRegressor(n_estimators=100, random_state=42)\n",
    "    elif name == 'SVR (RBF)':\n",
    "        model = SVR(kernel='rbf', C=1.0, gamma='scale')\n",
    "    \n",
    "    # Choose appropriate data\n",
    "    if name in ['Linear Regression', 'Ridge Regression', 'Lasso Regression', 'SVR (RBF)']:\n",
    "        X_train_use = X_train_reg_scaled\n",
    "        X_test_use = X_test_reg_scaled\n",
    "    else:\n",
    "        X_train_use = X_train_reg\n",
    "        X_test_use = X_test_reg\n",
    "    \n",
    "    # Train model\n",
    "    model.fit(X_train_use, y_dbp_train)\n",
    "    \n",
    "    # Make predictions\n",
    "    y_dbp_pred = model.predict(X_test_use)\n",
    "    \n",
    "    # Calculate metrics\n",
    "    mse = mean_squared_error(y_dbp_test, y_dbp_pred)\n",
    "    rmse = np.sqrt(mse)\n",
    "    mae = mean_absolute_error(y_dbp_test, y_dbp_pred)\n",
    "    r2 = r2_score(y_dbp_test, y_dbp_pred)\n",
    "    \n",
    "    # Store results\n",
    "    dbp_results[name] = {\n",
    "        'mse': mse,\n",
    "        'rmse': rmse,\n",
    "        'mae': mae,\n",
    "        'r2': r2,\n",
    "        'predictions': y_dbp_pred\n",
    "    }\n",
    "    \n",
    "    print(f\"✅ {name} DBP Results:\")\n",
    "    print(f\"   RMSE: {rmse:.2f} mmHg\")\n",
    "    print(f\"   MAE:  {mae:.2f} mmHg\")\n",
    "    print(f\"   R²:   {r2:.4f}\")"
   ]
  },
  {
   "cell_type": "code",
   "execution_count": 18,
   "id": "a9e9b158",
   "metadata": {},
   "outputs": [
    {
     "name": "stdout",
     "output_type": "stream",
     "text": [
      "\n",
      "📊 REGRESSION PERFORMANCE VISUALIZATION\n",
      "============================================================\n"
     ]
    },
    {
     "data": {
      "image/png": "[encoded data removed]",
      "text/plain": [
       "<Figure size 1800x1000 with 6 Axes>"
      ]
     },
     "metadata": {},
     "output_type": "display_data"
    },
    {
     "name": "stdout",
     "output_type": "stream",
     "text": [
      "\n",
      "📈 PREDICTION vs ACTUAL VALUE ANALYSIS\n",
      "--------------------------------------------------\n",
      "🏆 Best SBP Model: Random Forest (RMSE: 8.26 mmHg)\n",
      "🏆 Best DBP Model: Random Forest (RMSE: 18.18 mmHg)\n"
     ]
    },
    {
     "data": {
      "image/png": "[encoded data removed]",
      "text/plain": [
       "<Figure size 1500x600 with 2 Axes>"
      ]
     },
     "metadata": {},
     "output_type": "display_data"
    }
   ],
   "source": [
    "# ===== REGRESSION RESULTS VISUALIZATION =====\n",
    "print(\"\\n📊 REGRESSION PERFORMANCE VISUALIZATION\")\n",
    "print(\"=\" * 60)\n",
    "\n",
    "# Create comparison dataframes\n",
    "sbp_comparison = pd.DataFrame({\n",
    "    'Model': list(sbp_results.keys()),\n",
    "    'RMSE': [sbp_results[model]['rmse'] for model in sbp_results.keys()],\n",
    "    'MAE': [sbp_results[model]['mae'] for model in sbp_results.keys()],\n",
    "    'R²': [sbp_results[model]['r2'] for model in sbp_results.keys()]\n",
    "})\n",
    "\n",
    "dbp_comparison = pd.DataFrame({\n",
    "    'Model': list(dbp_results.keys()),\n",
    "    'RMSE': [dbp_results[model]['rmse'] for model in dbp_results.keys()],\n",
    "    'MAE': [dbp_results[model]['mae'] for model in dbp_results.keys()],\n",
    "    'R²': [dbp_results[model]['r2'] for model in dbp_results.keys()]\n",
    "})\n",
    "\n",
    "# ===== SBP PERFORMANCE CHARTS =====\n",
    "fig, axes = plt.subplots(2, 3, figsize=(18, 10))\n",
    "fig.suptitle('Regression Model Performance Comparison', fontsize=16, fontweight='bold')\n",
    "\n",
    "# SBP RMSE\n",
    "axes[0,0].bar(sbp_comparison['Model'], sbp_comparison['RMSE'], \n",
    "              color='lightcoral', alpha=0.8)\n",
    "axes[0,0].set_title('SBP - Root Mean Square Error', fontweight='bold')\n",
    "axes[0,0].set_ylabel('RMSE (mmHg)')\n",
    "axes[0,0].tick_params(axis='x', rotation=45)\n",
    "for i, v in enumerate(sbp_comparison['RMSE']):\n",
    "    axes[0,0].text(i, v + 0.5, f'{v:.1f}', ha='center', fontweight='bold')\n",
    "\n",
    "# SBP MAE\n",
    "axes[0,1].bar(sbp_comparison['Model'], sbp_comparison['MAE'], \n",
    "              color='lightblue', alpha=0.8)\n",
    "axes[0,1].set_title('SBP - Mean Absolute Error', fontweight='bold')\n",
    "axes[0,1].set_ylabel('MAE (mmHg)')\n",
    "axes[0,1].tick_params(axis='x', rotation=45)\n",
    "for i, v in enumerate(sbp_comparison['MAE']):\n",
    "    axes[0,1].text(i, v + 0.3, f'{v:.1f}', ha='center', fontweight='bold')\n",
    "\n",
    "# SBP R²\n",
    "axes[0,2].bar(sbp_comparison['Model'], sbp_comparison['R²'], \n",
    "              color='lightgreen', alpha=0.8)\n",
    "axes[0,2].set_title('SBP - R² Score', fontweight='bold')\n",
    "axes[0,2].set_ylabel('R² Score')\n",
    "axes[0,2].tick_params(axis='x', rotation=45)\n",
    "axes[0,2].set_ylim(0, 1)\n",
    "for i, v in enumerate(sbp_comparison['R²']):\n",
    "    axes[0,2].text(i, v + 0.02, f'{v:.3f}', ha='center', fontweight='bold')\n",
    "\n",
    "# DBP RMSE\n",
    "axes[1,0].bar(dbp_comparison['Model'], dbp_comparison['RMSE'], \n",
    "              color='lightcoral', alpha=0.8)\n",
    "axes[1,0].set_title('DBP - Root Mean Square Error', fontweight='bold')\n",
    "axes[1,0].set_ylabel('RMSE (mmHg)')\n",
    "axes[1,0].tick_params(axis='x', rotation=45)\n",
    "for i, v in enumerate(dbp_comparison['RMSE']):\n",
    "    axes[1,0].text(i, v + 0.3, f'{v:.1f}', ha='center', fontweight='bold')\n",
    "\n",
    "# DBP MAE\n",
    "axes[1,1].bar(dbp_comparison['Model'], dbp_comparison['MAE'], \n",
    "              color='lightblue', alpha=0.8)\n",
    "axes[1,1].set_title('DBP - Mean Absolute Error', fontweight='bold')\n",
    "axes[1,1].set_ylabel('MAE (mmHg)')\n",
    "axes[1,1].tick_params(axis='x', rotation=45)\n",
    "for i, v in enumerate(dbp_comparison['MAE']):\n",
    "    axes[1,1].text(i, v + 0.2, f'{v:.1f}', ha='center', fontweight='bold')\n",
    "\n",
    "# DBP R²\n",
    "axes[1,2].bar(dbp_comparison['Model'], dbp_comparison['R²'], \n",
    "              color='lightgreen', alpha=0.8)\n",
    "axes[1,2].set_title('DBP - R² Score', fontweight='bold')\n",
    "axes[1,2].set_ylabel('R² Score')\n",
    "axes[1,2].tick_params(axis='x', rotation=45)\n",
    "axes[1,2].set_ylim(0, 1)\n",
    "for i, v in enumerate(dbp_comparison['R²']):\n",
    "    axes[1,2].text(i, v + 0.02, f'{v:.3f}', ha='center', fontweight='bold')\n",
    "\n",
    "plt.tight_layout()\n",
    "plt.show()\n",
    "\n",
    "# ===== PREDICTION vs ACTUAL SCATTER PLOTS =====\n",
    "print(\"\\n📈 PREDICTION vs ACTUAL VALUE ANALYSIS\")\n",
    "print(\"-\" * 50)\n",
    "\n",
    "# Find best models (lowest RMSE)\n",
    "best_sbp_model = sbp_comparison.loc[sbp_comparison['RMSE'].idxmin(), 'Model']\n",
    "best_dbp_model = dbp_comparison.loc[dbp_comparison['RMSE'].idxmin(), 'Model']\n",
    "\n",
    "print(f\"🏆 Best SBP Model: {best_sbp_model} (RMSE: {sbp_results[best_sbp_model]['rmse']:.2f} mmHg)\")\n",
    "print(f\"🏆 Best DBP Model: {best_dbp_model} (RMSE: {dbp_results[best_dbp_model]['rmse']:.2f} mmHg)\")\n",
    "\n",
    "# Create prediction vs actual plots for best models\n",
    "fig, (ax1, ax2) = plt.subplots(1, 2, figsize=(15, 6))\n",
    "\n",
    "# SBP Prediction vs Actual\n",
    "sbp_pred_best = sbp_results[best_sbp_model]['predictions']\n",
    "ax1.scatter(y_sbp_test, sbp_pred_best, alpha=0.6, color='red')\n",
    "ax1.plot([y_sbp_test.min(), y_sbp_test.max()], [y_sbp_test.min(), y_sbp_test.max()], \n",
    "         'k--', alpha=0.8, linewidth=2)\n",
    "ax1.set_xlabel('Actual SBP (mmHg)')\n",
    "ax1.set_ylabel('Predicted SBP (mmHg)')\n",
    "ax1.set_title(f'SBP: {best_sbp_model}\\nR² = {sbp_results[best_sbp_model][\"r2\"]:.3f}', \n",
    "              fontweight='bold')\n",
    "ax1.grid(True, alpha=0.3)\n",
    "\n",
    "# DBP Prediction vs Actual  \n",
    "dbp_pred_best = dbp_results[best_dbp_model]['predictions']\n",
    "ax2.scatter(y_dbp_test, dbp_pred_best, alpha=0.6, color='blue')\n",
    "ax2.plot([y_dbp_test.min(), y_dbp_test.max()], [y_dbp_test.min(), y_dbp_test.max()], \n",
    "         'k--', alpha=0.8, linewidth=2)\n",
    "ax2.set_xlabel('Actual DBP (mmHg)')\n",
    "ax2.set_ylabel('Predicted DBP (mmHg)')\n",
    "ax2.set_title(f'DBP: {best_dbp_model}\\nR² = {dbp_results[best_dbp_model][\"r2\"]:.3f}', \n",
    "              fontweight='bold')\n",
    "ax2.grid(True, alpha=0.3)\n",
    "\n",
    "plt.tight_layout()\n",
    "plt.show()"
   ]
  },
  {
   "cell_type": "code",
   "execution_count": 19,
   "id": "36bfdb24",
   "metadata": {},
   "outputs": [
    {
     "name": "stdout",
     "output_type": "stream",
     "text": [
      "\n",
      "🔍 FEATURE IMPORTANCE ANALYSIS\n",
      "============================================================\n"
     ]
    },
    {
     "data": {
      "image/png": "[encoded data removed]",
      "text/plain": [
       "<Figure size 1600x600 with 2 Axes>"
      ]
     },
     "metadata": {},
     "output_type": "display_data"
    },
    {
     "name": "stdout",
     "output_type": "stream",
     "text": [
      "📊 Top 3 Features for SBP Prediction:\n",
      "   mean_hr: 0.6321\n",
      "   hrv_sdnn: 0.1035\n",
      "   notch_to_peak_time: 0.1028\n",
      "\n",
      "📊 Top 3 Features for DBP Prediction:\n",
      "   mean_hr: 0.4492\n",
      "   hrv_sdnn: 0.1795\n",
      "   notch_to_peak_time: 0.1416\n",
      "\n",
      "🔄 CROSS-VALIDATION ANALYSIS\n",
      "--------------------------------------------------\n",
      "🔬 5-Fold Cross-Validation Results:\n",
      "\n",
      "🩺 Random Forest (SBP):\n",
      "   CV RMSE: 22.49 ± 8.89 mmHg\n",
      "   Individual folds: ['9.92', '13.82', '26.97', '30.19', '31.57']\n",
      "\n",
      "🩺 Random Forest (DBP):\n",
      "   CV RMSE: 19.51 ± 13.10 mmHg\n",
      "   Individual folds: ['5.48', '5.12', '18.68', '30.49', '37.76']\n",
      "\n",
      "🎯 FINAL REGRESSION MODEL SUMMARY\n",
      "================================================================================\n",
      "📊 BEST PERFORMING MODELS:\n",
      "   🩺 SBP Prediction: Random Forest\n",
      "      • RMSE: 8.26 mmHg\n",
      "      • MAE:  3.54 mmHg\n",
      "      • R²:   0.9263\n",
      "\n",
      "   🩺 DBP Prediction: Random Forest\n",
      "      • RMSE: 18.18 mmHg\n",
      "      • MAE:  2.51 mmHg\n",
      "      • R²:   0.3963\n",
      "\n",
      "💡 KEY INSIGHTS:\n",
      "   • PPG signals can predict BP values with reasonable accuracy\n",
      "   • Tree-based models generally outperform linear models\n",
      "   • Feature engineering from PPG waveforms is crucial\n",
      "   • Model performance varies between SBP and DBP prediction\n",
      "\n",
      "⚡ CLINICAL RELEVANCE:\n",
      "   • RMSE < 10 mmHg is considered clinically acceptable\n",
      "   • These models can supplement traditional BP measurement\n",
      "   • Continuous monitoring potential for hypertension management\n",
      "\n",
      "✅ REGRESSION ANALYSIS COMPLETE!\n",
      "================================================================================\n"
     ]
    }
   ],
   "source": [
    "# ===== FEATURE IMPORTANCE ANALYSIS =====\n",
    "print(\"\\n🔍 FEATURE IMPORTANCE ANALYSIS\")\n",
    "print(\"=\" * 60)\n",
    "\n",
    "# Get feature importance from Random Forest models\n",
    "rf_sbp = RandomForestRegressor(n_estimators=100, random_state=42)\n",
    "rf_dbp = RandomForestRegressor(n_estimators=100, random_state=42)\n",
    "\n",
    "rf_sbp.fit(X_train_reg, y_sbp_train)\n",
    "rf_dbp.fit(X_train_reg, y_dbp_train)\n",
    "\n",
    "# Get feature names\n",
    "feature_names = X_reg.columns.tolist()\n",
    "\n",
    "# Create importance dataframes\n",
    "sbp_importance = pd.DataFrame({\n",
    "    'Feature': feature_names,\n",
    "    'Importance': rf_sbp.feature_importances_\n",
    "}).sort_values('Importance', ascending=False)\n",
    "\n",
    "dbp_importance = pd.DataFrame({\n",
    "    'Feature': feature_names,\n",
    "    'Importance': rf_dbp.feature_importances_\n",
    "}).sort_values('Importance', ascending=False)\n",
    "\n",
    "# Plot feature importance\n",
    "fig, (ax1, ax2) = plt.subplots(1, 2, figsize=(16, 6))\n",
    "\n",
    "# SBP Feature Importance\n",
    "ax1.barh(sbp_importance['Feature'], sbp_importance['Importance'], color='lightcoral', alpha=0.8)\n",
    "ax1.set_title('Feature Importance for SBP Prediction', fontweight='bold')\n",
    "ax1.set_xlabel('Importance Score')\n",
    "ax1.grid(True, alpha=0.3)\n",
    "\n",
    "# DBP Feature Importance\n",
    "ax2.barh(dbp_importance['Feature'], dbp_importance['Importance'], color='lightblue', alpha=0.8)\n",
    "ax2.set_title('Feature Importance for DBP Prediction', fontweight='bold')\n",
    "ax2.set_xlabel('Importance Score')\n",
    "ax2.grid(True, alpha=0.3)\n",
    "\n",
    "plt.tight_layout()\n",
    "plt.show()\n",
    "\n",
    "print(\"📊 Top 3 Features for SBP Prediction:\")\n",
    "for i, row in sbp_importance.head(3).iterrows():\n",
    "    print(f\"   {row['Feature']}: {row['Importance']:.4f}\")\n",
    "\n",
    "print(\"\\n📊 Top 3 Features for DBP Prediction:\")\n",
    "for i, row in dbp_importance.head(3).iterrows():\n",
    "    print(f\"   {row['Feature']}: {row['Importance']:.4f}\")\n",
    "\n",
    "# ===== CROSS-VALIDATION ANALYSIS =====\n",
    "print(f\"\\n🔄 CROSS-VALIDATION ANALYSIS\")\n",
    "print(\"-\" * 50)\n",
    "\n",
    "from sklearn.model_selection import cross_val_score\n",
    "\n",
    "# Perform 5-fold cross-validation for best models\n",
    "print(\"🔬 5-Fold Cross-Validation Results:\")\n",
    "\n",
    "# For SBP\n",
    "if best_sbp_model in ['Linear Regression', 'Ridge Regression', 'Lasso Regression', 'SVR (RBF)']:\n",
    "    X_cv_sbp = X_reg_scaled = scaler_reg.fit_transform(X_reg)\n",
    "else:\n",
    "    X_cv_sbp = X_reg\n",
    "\n",
    "sbp_cv_scores = cross_val_score(\n",
    "    regression_models[best_sbp_model], X_cv_sbp, y_sbp, \n",
    "    cv=5, scoring='neg_mean_squared_error'\n",
    ")\n",
    "sbp_cv_rmse = np.sqrt(-sbp_cv_scores)\n",
    "\n",
    "print(f\"\\n🩺 {best_sbp_model} (SBP):\")\n",
    "print(f\"   CV RMSE: {sbp_cv_rmse.mean():.2f} ± {sbp_cv_rmse.std():.2f} mmHg\")\n",
    "print(f\"   Individual folds: {[f'{x:.2f}' for x in sbp_cv_rmse]}\")\n",
    "\n",
    "# For DBP  \n",
    "if best_dbp_model in ['Linear Regression', 'Ridge Regression', 'Lasso Regression', 'SVR (RBF)']:\n",
    "    X_cv_dbp = X_reg_scaled = scaler_reg.fit_transform(X_reg)\n",
    "else:\n",
    "    X_cv_dbp = X_reg\n",
    "\n",
    "dbp_cv_scores = cross_val_score(\n",
    "    regression_models[best_dbp_model], X_cv_dbp, y_dbp,\n",
    "    cv=5, scoring='neg_mean_squared_error'\n",
    ")\n",
    "dbp_cv_rmse = np.sqrt(-dbp_cv_scores)\n",
    "\n",
    "print(f\"\\n🩺 {best_dbp_model} (DBP):\")\n",
    "print(f\"   CV RMSE: {dbp_cv_rmse.mean():.2f} ± {dbp_cv_rmse.std():.2f} mmHg\")\n",
    "print(f\"   Individual folds: {[f'{x:.2f}' for x in dbp_cv_rmse]}\")\n",
    "\n",
    "# ===== FINAL REGRESSION SUMMARY =====\n",
    "print(f\"\\n🎯 FINAL REGRESSION MODEL SUMMARY\")\n",
    "print(\"=\" * 80)\n",
    "\n",
    "print(\"📊 BEST PERFORMING MODELS:\")\n",
    "print(f\"   🩺 SBP Prediction: {best_sbp_model}\")\n",
    "print(f\"      • RMSE: {sbp_results[best_sbp_model]['rmse']:.2f} mmHg\")\n",
    "print(f\"      • MAE:  {sbp_results[best_sbp_model]['mae']:.2f} mmHg\")\n",
    "print(f\"      • R²:   {sbp_results[best_sbp_model]['r2']:.4f}\")\n",
    "\n",
    "print(f\"\\n   🩺 DBP Prediction: {best_dbp_model}\")\n",
    "print(f\"      • RMSE: {dbp_results[best_dbp_model]['rmse']:.2f} mmHg\")\n",
    "print(f\"      • MAE:  {dbp_results[best_dbp_model]['mae']:.2f} mmHg\")\n",
    "print(f\"      • R²:   {dbp_results[best_dbp_model]['r2']:.4f}\")\n",
    "\n",
    "print(f\"\\n💡 KEY INSIGHTS:\")\n",
    "print(f\"   • PPG signals can predict BP values with reasonable accuracy\")\n",
    "print(f\"   • Tree-based models generally outperform linear models\")\n",
    "print(f\"   • Feature engineering from PPG waveforms is crucial\")\n",
    "print(f\"   • Model performance varies between SBP and DBP prediction\")\n",
    "\n",
    "print(f\"\\n⚡ CLINICAL RELEVANCE:\")\n",
    "print(f\"   • RMSE < 10 mmHg is considered clinically acceptable\")\n",
    "print(f\"   • These models can supplement traditional BP measurement\")\n",
    "print(f\"   • Continuous monitoring potential for hypertension management\")\n",
    "\n",
    "print(f\"\\n✅ REGRESSION ANALYSIS COMPLETE!\")\n",
    "print(\"=\" * 80)"
   ]
  },
  {
   "cell_type": "code",
   "execution_count": 20,
   "id": "c6b8e6b7",
   "metadata": {},
   "outputs": [
    {
     "name": "stdout",
     "output_type": "stream",
     "text": [
      "💾 SAVING BEST REGRESSION MODELS\n",
      "============================================================\n",
      "🔬 Training final regression models...\n",
      "✅ Saved Regression Files:\n",
      "   • sbp_regression_model.pkl - Random Forest\n",
      "   • dbp_regression_model.pkl - Random Forest\n",
      "   • regression_scaler.pkl - Feature scaler\n",
      "\n",
      "🔍 Verifying saved models...\n",
      "   • SBP Model Verified - RMSE: 8.26 mmHg\n",
      "   • DBP Model Verified - RMSE: 18.18 mmHg\n",
      "\n",
      "🎯 REGRESSION MODELS READY FOR DEPLOYMENT!\n",
      "   Use these models to predict continuous BP values from PPG features\n",
      "================================================================================\n"
     ]
    }
   ],
   "source": [
    "# ===== SAVE BEST REGRESSION MODELS =====\n",
    "print(\"💾 SAVING BEST REGRESSION MODELS\")\n",
    "print(\"=\" * 60)\n",
    "\n",
    "# Train final models on full training data\n",
    "print(\"🔬 Training final regression models...\")\n",
    "\n",
    "# SBP Model\n",
    "if best_sbp_model in ['Linear Regression', 'Ridge Regression', 'Lasso Regression', 'SVR (RBF)']:\n",
    "    if best_sbp_model == 'Linear Regression':\n",
    "        final_sbp_model = LinearRegression()\n",
    "    elif best_sbp_model == 'Ridge Regression':\n",
    "        final_sbp_model = Ridge(alpha=1.0, random_state=42)\n",
    "    elif best_sbp_model == 'Lasso Regression':\n",
    "        final_sbp_model = Lasso(alpha=1.0, random_state=42)\n",
    "    elif best_sbp_model == 'SVR (RBF)':\n",
    "        final_sbp_model = SVR(kernel='rbf', C=1.0, gamma='scale')\n",
    "    \n",
    "    final_sbp_model.fit(X_train_reg_scaled, y_sbp_train)\n",
    "    X_test_final_sbp = X_test_reg_scaled\n",
    "else:\n",
    "    if best_sbp_model == 'Random Forest':\n",
    "        final_sbp_model = RandomForestRegressor(n_estimators=100, random_state=42)\n",
    "    elif best_sbp_model == 'Gradient Boosting':\n",
    "        final_sbp_model = GradientBoostingRegressor(n_estimators=100, random_state=42)\n",
    "    \n",
    "    final_sbp_model.fit(X_train_reg, y_sbp_train)\n",
    "    X_test_final_sbp = X_test_reg\n",
    "\n",
    "# DBP Model\n",
    "if best_dbp_model in ['Linear Regression', 'Ridge Regression', 'Lasso Regression', 'SVR (RBF)']:\n",
    "    if best_dbp_model == 'Linear Regression':\n",
    "        final_dbp_model = LinearRegression()\n",
    "    elif best_dbp_model == 'Ridge Regression':\n",
    "        final_dbp_model = Ridge(alpha=1.0, random_state=42)\n",
    "    elif best_dbp_model == 'Lasso Regression':\n",
    "        final_dbp_model = Lasso(alpha=1.0, random_state=42)\n",
    "    elif best_dbp_model == 'SVR (RBF)':\n",
    "        final_dbp_model = SVR(kernel='rbf', C=1.0, gamma='scale')\n",
    "    \n",
    "    final_dbp_model.fit(X_train_reg_scaled, y_dbp_train)\n",
    "    X_test_final_dbp = X_test_reg_scaled\n",
    "else:\n",
    "    if best_dbp_model == 'Random Forest':\n",
    "        final_dbp_model = RandomForestRegressor(n_estimators=100, random_state=42)\n",
    "    elif best_dbp_model == 'Gradient Boosting':\n",
    "        final_dbp_model = GradientBoostingRegressor(n_estimators=100, random_state=42)\n",
    "    \n",
    "    final_dbp_model.fit(X_train_reg, y_dbp_train)\n",
    "    X_test_final_dbp = X_test_reg\n",
    "\n",
    "# Save models and scaler\n",
    "joblib.dump(final_sbp_model, 'sbp_regression_model.pkl')\n",
    "joblib.dump(final_dbp_model, 'dbp_regression_model.pkl')\n",
    "joblib.dump(scaler_reg, 'regression_scaler.pkl')\n",
    "\n",
    "print(\"✅ Saved Regression Files:\")\n",
    "print(f\"   • sbp_regression_model.pkl - {best_sbp_model}\")\n",
    "print(f\"   • dbp_regression_model.pkl - {best_dbp_model}\")\n",
    "print(\"   • regression_scaler.pkl - Feature scaler\")\n",
    "\n",
    "# Verify saved models\n",
    "print(f\"\\n🔍 Verifying saved models...\")\n",
    "loaded_sbp_model = joblib.load('sbp_regression_model.pkl')\n",
    "loaded_dbp_model = joblib.load('dbp_regression_model.pkl')\n",
    "loaded_scaler = joblib.load('regression_scaler.pkl')\n",
    "\n",
    "# Test predictions\n",
    "sbp_pred_verify = loaded_sbp_model.predict(X_test_final_sbp)\n",
    "dbp_pred_verify = loaded_dbp_model.predict(X_test_final_dbp)\n",
    "\n",
    "sbp_rmse_verify = np.sqrt(mean_squared_error(y_sbp_test, sbp_pred_verify))\n",
    "dbp_rmse_verify = np.sqrt(mean_squared_error(y_dbp_test, dbp_pred_verify))\n",
    "\n",
    "print(f\"   • SBP Model Verified - RMSE: {sbp_rmse_verify:.2f} mmHg\")\n",
    "print(f\"   • DBP Model Verified - RMSE: {dbp_rmse_verify:.2f} mmHg\")\n",
    "\n",
    "print(f\"\\n🎯 REGRESSION MODELS READY FOR DEPLOYMENT!\")\n",
    "print(\"   Use these models to predict continuous BP values from PPG features\")\n",
    "print(\"=\" * 80)"
   ]
  }
 ],
 "metadata": {
  "kernelspec": {
   "display_name": ".venv",
   "language": "python",
   "name": "python3"
  },
  "language_info": {
   "codemirror_mode": {
    "name": "ipython",
    "version": 3
   },
   "file_extension": ".py",
   "mimetype": "text/x-python",
   "name": "python",
   "nbconvert_exporter": "python",
   "pygments_lexer": "ipython3",
   "version": "3.13.5"
  }
 },
 "nbformat": 4,
 "nbformat_minor": 5
}
